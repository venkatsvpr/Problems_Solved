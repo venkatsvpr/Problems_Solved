{
 "cells": [
  {
   "cell_type": "code",
   "execution_count": null,
   "metadata": {
    "collapsed": true
   },
   "outputs": [],
   "source": [
    "\"\"\"\n",
    "543. Diameter of Binary Tree\n",
    "\n",
    "Given a binary tree, you need to compute the length of the diameter of the tree. The diameter of a binary tree is the length of the longest path between any two nodes in a tree. This path may or may not pass through the root.\n",
    "\n",
    "Example:\n",
    "Given a binary tree \n",
    "          1\n",
    "         / \\\n",
    "        2   3\n",
    "       / \\     \n",
    "      4   5    \n",
    "Return 3, which is the length of the path [4,2,1,3] or [5,2,1,3].\n",
    "\n",
    "Note: The length of path between two nodes is represented by the number of edges between them.\n",
    "\"\"\"\n",
    "\n",
    "\n",
    "# Definition for a binary tree node.\n",
    "# class TreeNode(object):\n",
    "#     def __init__(self, x):\n",
    "#         self.val = x\n",
    "#         self.left = None\n",
    "#         self.right = None\n",
    "\n",
    "\"\"\"\n",
    "Approach:\n",
    "=========\n",
    "At every node is either the (left best + right best + current) or (current + max(left_best, right_best))\n",
    "Do this recursively.\n",
    "\"\"\"\n",
    "\n",
    "class Solution(object):\n",
    "    def diameterOfBinaryTree(self, root):\n",
    "        \"\"\"\n",
    "        :type root: TreeNode\n",
    "        :rtype: int\n",
    "        \"\"\"\n",
    "        def rec_traverse (root):\n",
    "            if root is None:\n",
    "                return [0 , 0]\n",
    "            left = rec_traverse(root.left)\n",
    "            right = rec_traverse(root.right)\n",
    "            temp_x = left[1] + right[1] + 1\n",
    "            if (left[0] > temp_x):\n",
    "                return [left[0], max(left[1],right[1])+1]\n",
    "            elif (right[0] > temp_x):\n",
    "                return [right[0], max(left[1],right[1])+1]\n",
    "            elif (left[1] > right[1]):\n",
    "                return [temp_x, left[1]+1]\n",
    "            else:\n",
    "                return [temp_x, right[1]+1]\n",
    "        Answer = rec_traverse(root)\n",
    "        if (Answer[0] == 0):\n",
    "            return 0\n",
    "        return Answer[0]-1"
   ]
  }
 ],
 "metadata": {
  "kernelspec": {
   "display_name": "Python 3",
   "language": "python",
   "name": "python3"
  },
  "language_info": {
   "codemirror_mode": {
    "name": "ipython",
    "version": 3
   },
   "file_extension": ".py",
   "mimetype": "text/x-python",
   "name": "python",
   "nbconvert_exporter": "python",
   "pygments_lexer": "ipython3",
   "version": "3.6.3"
  }
 },
 "nbformat": 4,
 "nbformat_minor": 2
}
