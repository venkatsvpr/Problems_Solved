{
 "cells": [
  {
   "cell_type": "code",
   "execution_count": null,
   "metadata": {},
   "outputs": [],
   "source": [
    "496. Next Greater Element I\n",
    "\n",
    "You are given two arrays (without duplicates) nums1 and nums2 where nums1’s elements are subset of nums2. Find all the next greater numbers for nums1's elements in the corresponding places of nums2.\n",
    "\n",
    "The Next Greater Number of a number x in nums1 is the first greater number to its right in nums2. If it does not exist, output -1 for this number.\n",
    "\n",
    "Example 1:\n",
    "\n",
    "Input: nums1 = [4,1,2], nums2 = [1,3,4,2].\n",
    "Output: [-1,3,-1]\n",
    "Explanation:\n",
    "    For number 4 in the first array, you cannot find the next greater number for it in the second array, so output -1.\n",
    "    For number 1 in the first array, the next greater number for it in the second array is 3.\n",
    "    For number 2 in the first array, there is no next greater number for it in the second array, so output -1.\n",
    "\n",
    "Example 2:\n",
    "\n",
    "Input: nums1 = [2,4], nums2 = [1,2,3,4].\n",
    "Output: [3,-1]\n",
    "Explanation:\n",
    "    For number 2 in the first array, the next greater number for it in the second array is 3.\n",
    "    For number 4 in the first array, there is no next greater number for it in the second array, so output -1.\n",
    "\n",
    "Note:\n",
    "\n",
    "    All elements in nums1 and nums2 are unique.\n",
    "    The length of both nums1 and nums2 would not exceed 1000.\n"
   ]
  },
  {
   "cell_type": "code",
   "execution_count": 2,
   "metadata": {},
   "outputs": [
    {
     "name": "stdout",
     "output_type": "stream",
     "text": [
      "[-1, 3, -1]\n",
      "[3, -1]\n"
     ]
    }
   ],
   "source": [
    "class Solution:\n",
    "    def nextGreaterElement(self, nums1, nums2):\n",
    "        \"\"\"\n",
    "        :type nums1: List[int]\n",
    "        :type nums2: List[int]\n",
    "        :rtype: List[int]\n",
    "        \"\"\"\n",
    "        prev = -1;\n",
    "        stack = []\n",
    "        greater = {}\n",
    "        for item in nums2:\n",
    "            while stack and item > stack[-1]:\n",
    "                greater[stack.pop()] =  item\n",
    "            stack.append(item)\n",
    "        Ans = []\n",
    "        for item in nums1:\n",
    "            if item in greater:\n",
    "                Ans.append(greater[item])\n",
    "            else:\n",
    "                Ans.append(-1)\n",
    "        return Ans\n",
    "mysol = Solution()\n",
    "print (mysol.nextGreaterElement([4,1,2],[1,3,4,2]))\n",
    "print (mysol.nextGreaterElement([2,4],[1,2,3,4]))\n"
   ]
  }
 ],
 "metadata": {
  "kernelspec": {
   "display_name": "Python 3",
   "language": "python",
   "name": "python3"
  },
  "language_info": {
   "codemirror_mode": {
    "name": "ipython",
    "version": 3
   },
   "file_extension": ".py",
   "mimetype": "text/x-python",
   "name": "python",
   "nbconvert_exporter": "python",
   "pygments_lexer": "ipython3",
   "version": "3.6.4"
  }
 },
 "nbformat": 4,
 "nbformat_minor": 2
}
