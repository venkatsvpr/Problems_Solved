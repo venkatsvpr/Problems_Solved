{
 "cells": [
  {
   "cell_type": "code",
   "execution_count": 2,
   "metadata": {},
   "outputs": [
    {
     "name": "stdout",
     "output_type": "stream",
     "text": [
      "hello\n",
      "[[1, 1], 2, [1, 1]]\n",
      "[1, 1, 1, 1]\n",
      "10\n",
      "[1, [4, [6]]]\n",
      "[4, [6]]\n",
      "[6]\n",
      "27\n"
     ]
    }
   ],
   "source": [
    "\"\"\"\n",
    "Given a nested list of integers, return the sum of all integers in the list weighted by their depth.\n",
    "Each element is either an integer, or a list -- whose elements may also be integers or other lists.\n",
    "Example 1:\n",
    "Given the list [[1,1],2,[1,1]], return 10. (four 1's at depth 2, one 2 at depth 1)\n",
    "Example 2:\n",
    "Given the list [1,[4,[6]]], return 27. (one 1 at depth 1, one 4 at depth 2, and one 6 at depth 3; 1 + 4*2 + 6*3 = 27)\n",
    "\n",
    "Approach: \n",
    "Process All integers \"\"\"\n",
    "\n",
    "def Process_Input (in_list):\n",
    "    nestedlist = in_list;\n",
    "    sum = 0\n",
    "    depth = 1\n",
    "    while (nestedlist):\n",
    "        print (nestedlist)\n",
    "        New_list = []\n",
    "        temp_sum = 0\n",
    "        for element in nestedlist:\n",
    "            if isinstance (element, int):\n",
    "                temp_sum += element\n",
    "            else:\n",
    "                New_list +=element\n",
    "        nestedlist = New_list\n",
    "        sum += temp_sum *depth\n",
    "        depth += 1\n",
    "    return sum\n",
    "\n",
    "Input = [[1,1],2,[1,1]]\n",
    "print (Process_Input(Input))\n",
    "\n",
    "Input = [1, [4,[6]]]\n",
    "print (Process_Input(Input))\n"
   ]
  },
  {
   "cell_type": "code",
   "execution_count": null,
   "metadata": {
    "collapsed": true
   },
   "outputs": [],
   "source": [
    "print (\"hello\")"
   ]
  }
 ],
 "metadata": {
  "kernelspec": {
   "display_name": "Python 3",
   "language": "python",
   "name": "python3"
  },
  "language_info": {
   "codemirror_mode": {
    "name": "ipython",
    "version": 3
   },
   "file_extension": ".py",
   "mimetype": "text/x-python",
   "name": "python",
   "nbconvert_exporter": "python",
   "pygments_lexer": "ipython3",
   "version": "3.6.3"
  }
 },
 "nbformat": 4,
 "nbformat_minor": 2
}
