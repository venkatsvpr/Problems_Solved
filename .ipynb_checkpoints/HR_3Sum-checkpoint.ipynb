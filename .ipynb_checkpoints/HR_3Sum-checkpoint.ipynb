{
 "cells": [
  {
   "cell_type": "code",
   "execution_count": 2,
   "metadata": {},
   "outputs": [
    {
     "name": "stdout",
     "output_type": "stream",
     "text": [
      "[(-1, -1, 2), (-1, 0, 1)]\n"
     ]
    }
   ],
   "source": [
    "\"\"\"\n",
    "\n",
    "15. 3Sum\n",
    "========\n",
    "https://leetcode.com/problems/3sum/description/\n",
    "\n",
    "Given an array S of n integers, are there elements a, b, c in S such that a + b + c = 0? Find all unique triplets in the array which gives the sum of zero.\n",
    "\n",
    "Note: The solution set must not contain duplicate triplets.\n",
    "\n",
    "For example, given array S = [-1, 0, 1, 2, -1, -4],\n",
    "\n",
    "A solution set is:\n",
    "[\n",
    "  [-1, 0, 1],\n",
    "  [-1, -1, 2]\n",
    "]\n",
    "Approach:\n",
    "\n",
    "Sort the  Numbers first\n",
    "Pick i th number and set j as i+1 and k as len-1\n",
    "if sum of i j and k is equal to zero do j++ k--\n",
    "else sum >0 do k--\n",
    "else sum <0 do j++\n",
    "In any of the conidition of num[j] equals num[k] break\n",
    "\n",
    "\"\"\"\n",
    "\n",
    "class Solution(object):\n",
    "    def threeSum(self, nums):\n",
    "        \"\"\"\n",
    "        :type nums: List[int]\n",
    "        :rtype: List[List[int]]\n",
    "        \"\"\"\n",
    "        if len(nums) < 3:\n",
    "            return []\n",
    "        nums.sort()\n",
    "        s = set()\n",
    "        for k, v in enumerate(nums):\n",
    "            l, r = k+1, len(nums)-1\n",
    "            while l < r:\n",
    "                sums = v + nums[l] + nums[r]\n",
    "                if sums == 0:\n",
    "                    s.add((v, nums[l], nums[r]))\n",
    "                    if nums[l] == nums[r]:\n",
    "                        break\n",
    "                    l += 1\n",
    "                    r -= 1  \n",
    "                elif sums > 0:\n",
    "                    if (nums[l] == nums[r]):\n",
    "                        break;\n",
    "                    r -= 1\n",
    "                elif sums < 0:\n",
    "                    if (nums[l] == nums[r]):\n",
    "                        break;\n",
    "                    l += 1\n",
    "        return list(s)\n",
    "\n",
    "mysol = Solution()\n",
    "print (mysol.threeSum([-1, 0, 1, 2, -1, -4]))"
   ]
  }
 ],
 "metadata": {
  "kernelspec": {
   "display_name": "Python 3",
   "language": "python",
   "name": "python3"
  },
  "language_info": {
   "codemirror_mode": {
    "name": "ipython",
    "version": 3
   },
   "file_extension": ".py",
   "mimetype": "text/x-python",
   "name": "python",
   "nbconvert_exporter": "python",
   "pygments_lexer": "ipython3",
   "version": "3.6.4"
  }
 },
 "nbformat": 4,
 "nbformat_minor": 2
}
