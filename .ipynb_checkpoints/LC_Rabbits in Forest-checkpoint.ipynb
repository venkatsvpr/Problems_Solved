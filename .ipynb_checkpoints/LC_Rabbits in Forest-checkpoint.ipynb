{
 "cells": [
  {
   "cell_type": "code",
   "execution_count": 4,
   "metadata": {},
   "outputs": [
    {
     "name": "stdout",
     "output_type": "stream",
     "text": [
      "[1,1,2] -> 5\n",
      "[10,10,10] -> 11\n",
      "[100,100,100] -> 101\n",
      "[] -> 0\n"
     ]
    }
   ],
   "source": [
    "\"\"\"\n",
    "781: Rabbits in Forest\n",
    "=======================\n",
    "In a forest, each rabbit has some color. Some subset of rabbits (possibly all of them) tell you how many other rabbits have the same color as them. Those answers are placed in an array.\n",
    "\n",
    "Return the minimum number of rabbits that could be in the forest.\n",
    "\n",
    "Examples:\n",
    "Input: answers = [1, 1, 2]\n",
    "Output: 5\n",
    "Explanation:\n",
    "The two rabbits that answered \"1\" could both be the same color, say red.\n",
    "The rabbit than answered \"2\" can't be red or the answers would be inconsistent.\n",
    "Say the rabbit that answered \"2\" was blue.\n",
    "Then there should be 2 other blue rabbits in the forest that didn't answer into the array.\n",
    "The smallest possible number of rabbits in the forest is therefore 5: 3 that answered plus 2 that didn't.\n",
    "\n",
    "Input: answers = [10, 10, 10]\n",
    "Output: 11\n",
    "\n",
    "Input: answers = []\n",
    "Output: 0\n",
    "Note:\n",
    "\n",
    "answers will have length at most 1000.\n",
    "Each answers[i] will be an integer in the range [0, 999].\n",
    "\n",
    "\n",
    "Approach:\n",
    "=========\n",
    "Count the number of 1,2,3.. etc.\n",
    "When a rabit says 1, there is another one rabit.\n",
    "when a rabit says 2, there are two another 2 another rabits\n",
    "\n",
    "\"\"\"\n",
    "\n",
    "class Solution(object):\n",
    "    def numRabbits(self, answers):\n",
    "        \"\"\"\n",
    "        :type answers: List[int]\n",
    "        :rtype: int\n",
    "        \"\"\"\n",
    "        if answers is None:\n",
    "            return 0\n",
    "        \n",
    "        if len(answers) == 0:\n",
    "            return 0\n",
    "        \n",
    "        d = dict()\n",
    "        for item in answers:\n",
    "            if item in d:\n",
    "                d[item] += 1\n",
    "            else:\n",
    "                d[item] = 1\n",
    "        count = 0\n",
    "        \n",
    "        for key in d:\n",
    "            if (key == 0):\n",
    "                count += d[0]\n",
    "                continue;\n",
    "            else:\n",
    "                while (d[key]>0):\n",
    "                    count += key+1\n",
    "                    d[key] = d[key] -(key+1)\n",
    "        return count\n",
    "\n",
    "    \n",
    "mysol = Solution()\n",
    "print (\"[1,1,2] ->\",mysol.numRabbits([1,1,2]))\n",
    "print (\"[10,10,10] ->\",mysol.numRabbits([10,10,10]))\n",
    "print (\"[100,100,100] ->\",mysol.numRabbits([100,100,100]))\n",
    "print (\"[] ->\",mysol.numRabbits([]))\n"
   ]
  }
 ],
 "metadata": {
  "kernelspec": {
   "display_name": "Python 3",
   "language": "python",
   "name": "python3"
  },
  "language_info": {
   "codemirror_mode": {
    "name": "ipython",
    "version": 3
   },
   "file_extension": ".py",
   "mimetype": "text/x-python",
   "name": "python",
   "nbconvert_exporter": "python",
   "pygments_lexer": "ipython3",
   "version": "3.6.3"
  }
 },
 "nbformat": 4,
 "nbformat_minor": 2
}
