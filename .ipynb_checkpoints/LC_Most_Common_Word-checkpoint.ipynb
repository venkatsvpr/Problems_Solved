{
 "cells": [
  {
   "cell_type": "code",
   "execution_count": 1,
   "metadata": {},
   "outputs": [
    {
     "name": "stdout",
     "output_type": "stream",
     "text": [
      "Counter({'ball': 2, 'bob': 1, 'a': 1, 'the': 1, 'flew': 1, 'far': 1, 'after': 1, 'it': 1, 'was': 1})\n",
      "ball\n"
     ]
    }
   ],
   "source": [
    "\"\"\"\n",
    "819. Most Common Word\n",
    "\n",
    "Given a paragraph and a list of banned words, return the most frequent word that is not in the list of banned words.  It is guaranteed there is at least one word that isn't banned, and that the answer is unique.\n",
    "\n",
    "Words in the list of banned words are given in lowercase, and free of punctuation.  Words in the paragraph are not case sensitive.  The answer is in lowercase.\n",
    "\n",
    "Example:\n",
    "Input: \n",
    "paragraph = \"Bob hit a ball, the hit BALL flew far after it was hit.\"\n",
    "banned = [\"hit\"]\n",
    "Output: \"ball\"\n",
    "Explanation: \n",
    "\"hit\" occurs 3 times, but it is a banned word.\n",
    "\"ball\" occurs twice (and no other word does), so it is the most frequent non-banned word in the paragraph. \n",
    "Note that words in the paragraph are not case sensitive,\n",
    "that punctuation is ignored (even if adjacent to words, such as \"ball,\"), \n",
    "and that \"hit\" isn't the answer even though it occurs more because it is banned.\n",
    "\n",
    "\n",
    "\"\"\"\n",
    "import collections\n",
    "import operator\n",
    "class Solution(object):\n",
    "    def mostCommonWord(self, paragraph, banned):\n",
    "        \"\"\"\n",
    "        :type paragraph: str\n",
    "        :type banned: List[str]\n",
    "        :rtype: str\n",
    "        \"\"\"\n",
    "        c = collections.Counter()\n",
    "        para = paragraph.split()\n",
    "\n",
    "        for word in para:\n",
    "            word  = ''.join(e for e in word if e.isalnum())\n",
    "            word  = word.lower()\n",
    "            #print (\"words \",word, \" banned \",banned )\n",
    "            if word not in banned:\n",
    "                c[word.lower()] += 1\n",
    "        print (c)\n",
    "        Ans = sorted (c.items(), key=operator.itemgetter(1),reverse=True)\n",
    "        (k,v) = Ans[0]\n",
    "        return k;\n",
    "mysol = Solution()\n",
    "print (mysol.mostCommonWord(\"Bob hit a ball, the hit BALL flew far after it was hit.\",[\"hit\"]))"
   ]
  }
 ],
 "metadata": {
  "kernelspec": {
   "display_name": "Python 3",
   "language": "python",
   "name": "python3"
  },
  "language_info": {
   "codemirror_mode": {
    "name": "ipython",
    "version": 3
   },
   "file_extension": ".py",
   "mimetype": "text/x-python",
   "name": "python",
   "nbconvert_exporter": "python",
   "pygments_lexer": "ipython3",
   "version": "3.6.4"
  }
 },
 "nbformat": 4,
 "nbformat_minor": 2
}
