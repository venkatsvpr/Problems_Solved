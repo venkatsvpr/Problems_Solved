{
 "cells": [
  {
   "cell_type": "code",
   "execution_count": 2,
   "metadata": {},
   "outputs": [
    {
     "name": "stdout",
     "output_type": "stream",
     "text": [
      "aaacecaaa\n",
      "dcbabcd\n"
     ]
    }
   ],
   "source": [
    "\"\"\"\n",
    "Given a string S, you are allowed to convert it to a palindrome by adding characters in front of it. \n",
    "Find and return the shortest palindrome you can find by performing this transformation.\n",
    "\n",
    "For example:\n",
    "\n",
    "Given \"aacecaaa\", return \"aaacecaaa\".\n",
    "\n",
    "Given \"abcd\", return \"dcbabcd\".\n",
    "\"\"\"\n",
    "\n",
    "class Solution:\n",
    "    def shortestPalindrome(self, s):\n",
    "        \"\"\" Find the reversed of the string \"\"\"\n",
    "        rev_s = s[::-1]\n",
    "        \n",
    "        for i in range(len(s) + 1):\n",
    "            \"\"\" Check if revs[i:] is a substring of s\"\"\"\n",
    "            if s.startswith(rev_s[i:]):\n",
    "                return rev_s[:i] + s\n",
    "            \n",
    "sol = Solution()\n",
    "print (sol.shortestPalindrome (\"aacecaaa\"))\n",
    "print (sol.shortestPalindrome (\"abcd\"))"
   ]
  }
 ],
 "metadata": {
  "kernelspec": {
   "display_name": "Python 3",
   "language": "python",
   "name": "python3"
  },
  "language_info": {
   "codemirror_mode": {
    "name": "ipython",
    "version": 3
   },
   "file_extension": ".py",
   "mimetype": "text/x-python",
   "name": "python",
   "nbconvert_exporter": "python",
   "pygments_lexer": "ipython3",
   "version": "3.6.3"
  }
 },
 "nbformat": 4,
 "nbformat_minor": 2
}
