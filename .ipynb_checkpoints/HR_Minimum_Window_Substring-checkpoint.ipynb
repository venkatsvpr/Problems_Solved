{
 "cells": [
  {
   "cell_type": "code",
   "execution_count": 2,
   "metadata": {},
   "outputs": [
    {
     "name": "stdout",
     "output_type": "stream",
     "text": [
      "banc\n",
      "abc\n"
     ]
    }
   ],
   "source": [
    "\"\"\"\n",
    "https://leetcode.com/problems/minimum-window-substring/description/\n",
    "\n",
    " Given a string S and a string T, find the minimum window in S which will contain all the characters in T in complexity O(n).\n",
    "\n",
    "For example,\n",
    "S = \"ADOBECODEBANC\"\n",
    "T = \"ABC\"\n",
    "\n",
    "Minimum window is \"BANC\".\n",
    "\n",
    "Note:\n",
    "If there is no such window in S that covers all characters in T, return the empty string \"\".\n",
    "\n",
    "If there are multiple such windows, you are guaranteed that there will always be only one unique minimum window in S.\n",
    "    \n",
    "\n",
    "\n",
    "Approach:\n",
    "First find a block that has all characters of T. with the first charac twice..\n",
    "Then start trimming it down.\n",
    "save results if you hit a better I-J than i-j\n",
    "\"\"\"\n",
    "import collections\n",
    "class Solution:\n",
    "    def minWindow(self, s, t):\n",
    "        need = collections.Counter(t)\n",
    "        missing = len(t)\n",
    "        i = I = J = 0;\n",
    "        j = 1;\n",
    "        for j,c in enumerate(s,1):\n",
    "            if (need[c] > 0):\n",
    "                missing -= 1\n",
    "            need[c] -= 1\n",
    "            if (missing > 0):\n",
    "                continue;\n",
    "            # Find the point till we have extra character\n",
    "            # delete the extra characters.\n",
    "            while (i<j and need[s[i]] <0):\n",
    "                need[s[i]] +=1\n",
    "                i += 1\n",
    "            if (J==0 or (j-i) <= (J-I)):\n",
    "                I,J = i,j\n",
    "        return s[I:J]\n",
    "\n",
    "mysol = Solution()\n",
    "print (mysol.minWindow(\"adobecodebanc\",\"abc\"))\n",
    "print (mysol.minWindow(\"adobecodebancabc\",\"abc\"))\n",
    "\n",
    "        "
   ]
  }
 ],
 "metadata": {
  "kernelspec": {
   "display_name": "Python 3",
   "language": "python",
   "name": "python3"
  },
  "language_info": {
   "codemirror_mode": {
    "name": "ipython",
    "version": 3
   },
   "file_extension": ".py",
   "mimetype": "text/x-python",
   "name": "python",
   "nbconvert_exporter": "python",
   "pygments_lexer": "ipython3",
   "version": "3.6.4"
  }
 },
 "nbformat": 4,
 "nbformat_minor": 2
}
