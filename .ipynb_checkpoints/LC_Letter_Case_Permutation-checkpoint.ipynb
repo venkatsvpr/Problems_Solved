{
 "cells": [
  {
   "cell_type": "code",
   "execution_count": 2,
   "metadata": {},
   "outputs": [
    {
     "name": "stdout",
     "output_type": "stream",
     "text": [
      "['A1B2', 'a1B2', 'A1b2', 'a1b2']\n",
      "['BZ4', 'bZ4', 'Bz4', 'bz4']\n",
      "['HELL4', 'hELL4', 'HeLL4', 'heLL4', 'HElL4', 'hElL4', 'HelL4', 'helL4', 'HELl4', 'hELl4', 'HeLl4', 'heLl4', 'HEll4', 'hEll4', 'Hell4', 'hell4']\n"
     ]
    }
   ],
   "source": [
    "\"\"\"\n",
    "784. Letter Case Permutation\n",
    "=============================\n",
    "\n",
    "Given a string S, we can transform every letter individually to be lowercase or uppercase to create another string.  Return a list of all possible strings we could create.\n",
    "\n",
    "Examples:\n",
    "Input: S = \"a1b2\"\n",
    "Output: [\"a1b2\", \"a1B2\", \"A1b2\", \"A1B2\"]\n",
    "\n",
    "Input: S = \"3z4\"\n",
    "Output: [\"3z4\", \"3Z4\"]\n",
    "\n",
    "Input: S = \"12345\"\n",
    "Output: [\"12345\"]\n",
    "\n",
    "Note:\n",
    "\n",
    "    S will be a string with length at most 12.\n",
    "    S will consist only of letters or digits.\n",
    "\n",
    "Approach:\n",
    "=========\n",
    "Read character by character\n",
    "If a number is found,append it to every element on a list\n",
    "If a character is found,copy the list to itself again.. lt = lt lt\n",
    "Repeat this till all the characters are done.\n",
    "the list will have the answer.\n",
    "\n",
    "\"\"\"\n",
    "\n",
    "ans = list()\n",
    "class Solution:\n",
    "    def letterCasePermutation(self, St):\n",
    "        \"\"\"\n",
    "        :type S: str\n",
    "        :rtype: List[str]\n",
    "        \"\"\"\n",
    "        \n",
    "        def rec_call (S, lt):\n",
    "            global ans\n",
    "            if (len(S) == 0):\n",
    "                ans = lt\n",
    "                return lt\n",
    "            if (ord(S[0]) >= ord(\"0\")  and ord(S[0]) <= ord(\"9\")):\n",
    "                if (len(lt) == 0):\n",
    "                    lt.append(S[0])\n",
    "                else:\n",
    "                    for index,item in enumerate(lt):\n",
    "                        lt[index] += str(S[0])\n",
    "            else:\n",
    "                if (len(lt) == 0):\n",
    "                    lt.insert(0,S[0].lower())\n",
    "                    lt.insert(0,S[0].upper())\n",
    "                else:\n",
    "                    new_list = lt[:]\n",
    "                    for index,item in enumerate(lt):\n",
    "                        lt[index] += S[0].upper()\n",
    "                    for index,item in enumerate(new_list):\n",
    "                        new_list[index] += S[0].lower()\n",
    "                    lt = lt + new_list[:]\n",
    "            rec_call (S[1:],lt)\n",
    "        \n",
    "        \n",
    "        if (len(St) == 0):\n",
    "            return [\"\"]\n",
    "        Answer = []\n",
    "        global ans\n",
    "        rec_call(St,Answer)\n",
    "        return (ans)    \n",
    "\n",
    "mysol = Solution()\n",
    "print (mysol.letterCasePermutation(\"a1b2\"))\n",
    "print (mysol.letterCasePermutation(\"bz4\"))\n",
    "print (mysol.letterCasePermutation(\"hell4\"))\n"
   ]
  }
 ],
 "metadata": {
  "kernelspec": {
   "display_name": "Python 3",
   "language": "python",
   "name": "python3"
  },
  "language_info": {
   "codemirror_mode": {
    "name": "ipython",
    "version": 3
   },
   "file_extension": ".py",
   "mimetype": "text/x-python",
   "name": "python",
   "nbconvert_exporter": "python",
   "pygments_lexer": "ipython3",
   "version": "3.6.3"
  }
 },
 "nbformat": 4,
 "nbformat_minor": 2
}
