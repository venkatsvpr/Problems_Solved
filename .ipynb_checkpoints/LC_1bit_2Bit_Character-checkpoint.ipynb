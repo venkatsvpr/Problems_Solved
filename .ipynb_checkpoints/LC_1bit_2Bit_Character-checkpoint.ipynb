{
 "cells": [
  {
   "cell_type": "code",
   "execution_count": 11,
   "metadata": {},
   "outputs": [
    {
     "name": "stdout",
     "output_type": "stream",
     "text": [
      "True\n",
      "False\n"
     ]
    }
   ],
   "source": [
    "\"\"\"\n",
    "717. 1-bit and 2-bit Characters\n",
    "===============================\n",
    "We have two special characters. The first character can be represented by one bit 0. The second character can be represented by two bits (10 or 11).\n",
    "Now given a string represented by several bits. Return whether the last character must be a one-bit character or not. The given string will always end with a zero.\n",
    "\n",
    "Example 1:\n",
    "Input: \n",
    "bits = [1, 0, 0]\n",
    "Output: True\n",
    "Explanation: \n",
    "The only way to decode it is two-bit character and one-bit character. So the last character is one-bit character.\n",
    "\n",
    "Example 2:\n",
    "Input: \n",
    "bits = [1, 1, 1, 0]\n",
    "Output: False\n",
    "Explanation: \n",
    "The only way to decode it is two-bit character and two-bit character. So the last character is NOT one-bit character.\n",
    "\n",
    "Note:\n",
    "1 <= len(bits) <= 1000.\n",
    "bits[i] is always 0 or 1.\n",
    "\"\"\"\n",
    "def isOneBitCharacter(bits):\n",
    "    if bits is None:\n",
    "        return False\n",
    "    i = 0;\n",
    "    while (i < len(bits)-1):\n",
    "         i+= bits[i] + 1\n",
    "        \n",
    "    if (i == len(bits)-1):\n",
    "        return True\n",
    "    return False\n",
    "\n",
    "bits = [1,0,0]\n",
    "print (isOneBitCharacter (bits))\n",
    "\n",
    "bits = [1,1,1,0]\n",
    "print (isOneBitCharacter (bits))"
   ]
  }
 ],
 "metadata": {
  "kernelspec": {
   "display_name": "Python 3",
   "language": "python",
   "name": "python3"
  },
  "language_info": {
   "codemirror_mode": {
    "name": "ipython",
    "version": 3
   },
   "file_extension": ".py",
   "mimetype": "text/x-python",
   "name": "python",
   "nbconvert_exporter": "python",
   "pygments_lexer": "ipython3",
   "version": "3.6.3"
  }
 },
 "nbformat": 4,
 "nbformat_minor": 2
}
