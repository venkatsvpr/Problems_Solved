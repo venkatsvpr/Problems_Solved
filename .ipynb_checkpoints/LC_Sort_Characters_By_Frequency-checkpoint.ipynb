{
 "cells": [
  {
   "cell_type": "code",
   "execution_count": 1,
   "metadata": {},
   "outputs": [
    {
     "name": "stdout",
     "output_type": "stream",
     "text": [
      "bbAa\n",
      "Venkat\n",
      "oooolllHHeerrWdwayu\n",
      "eeeeehh\n"
     ]
    }
   ],
   "source": [
    "\"\"\"\n",
    "451. Sort Characters By Frequency\n",
    "Given a string, sort it in decreasing order based on the frequency of characters.\n",
    "\n",
    "Example 1:\n",
    "\n",
    "Input:\n",
    "\"tree\"\n",
    "\n",
    "Output:\n",
    "\"eert\"\n",
    "\n",
    "Explanation:\n",
    "'e' appears twice while 'r' and 't' both appear once.\n",
    "So 'e' must appear before both 'r' and 't'. Therefore \"eetr\" is also a valid answer.\n",
    "Example 2:\n",
    "\n",
    "Input:\n",
    "\"cccaaa\"\n",
    "\n",
    "Output:\n",
    "\"cccaaa\"\n",
    "\n",
    "Explanation:\n",
    "Both 'c' and 'a' appear three times, so \"aaaccc\" is also a valid answer.\n",
    "Note that \"cacaca\" is incorrect, as the same characters must be together.\n",
    "Example 3:\n",
    "\n",
    "Input:\n",
    "\"Aabb\"\n",
    "\n",
    "Output:\n",
    "\"bbAa\"\n",
    "\n",
    "Explanation:\n",
    "\"bbaA\" is also a valid answer, but \"Aabb\" is incorrect.\n",
    "Note that 'A' and 'a' are treated as two different characters.\n",
    "\n",
    "Approach:\n",
    "Count the characters . reverse sort it based onthe number of occurance.\n",
    "\n",
    "\"\"\"\n",
    "\n",
    "import collections\n",
    "import operator\n",
    "class Solution(object):\n",
    "    def frequencySort(self, s):\n",
    "        \"\"\"\n",
    "        :type s: str\n",
    "        :rtype: str\n",
    "        \"\"\"\n",
    "        if s is None:\n",
    "            return s\n",
    "        if len(s) == 0:\n",
    "            return \"\"\n",
    "        \n",
    "        c = collections.Counter()\n",
    "        for ch in s:\n",
    "            c[ch] += 1\n",
    "        \n",
    "        s = \"\"\n",
    "       \n",
    "        for (key,val) in sorted(c.items(), key = operator.itemgetter(1),reverse =True):\n",
    "            s = s + key*val\n",
    "        return (s)\n",
    "    \n",
    "mysol = Solution()\n",
    "print (mysol.frequencySort(\"Aabb\"))\n",
    "print (mysol.frequencySort(\"Venkat\"))\n",
    "print (mysol.frequencySort(\"HelloWorldHowareyou\"))\n",
    "print (mysol.frequencySort(\"heheeee\"))"
   ]
  }
 ],
 "metadata": {
  "kernelspec": {
   "display_name": "Python 3",
   "language": "python",
   "name": "python3"
  },
  "language_info": {
   "codemirror_mode": {
    "name": "ipython",
    "version": 3
   },
   "file_extension": ".py",
   "mimetype": "text/x-python",
   "name": "python",
   "nbconvert_exporter": "python",
   "pygments_lexer": "ipython3",
   "version": "3.6.3"
  }
 },
 "nbformat": 4,
 "nbformat_minor": 2
}
