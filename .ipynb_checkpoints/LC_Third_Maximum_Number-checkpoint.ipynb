{
 "cells": [
  {
   "cell_type": "code",
   "execution_count": 1,
   "metadata": {},
   "outputs": [
    {
     "ename": "ModuleNotFoundError",
     "evalue": "No module named 'Queue'",
     "output_type": "error",
     "traceback": [
      "\u001b[1;31m---------------------------------------------------------------------------\u001b[0m",
      "\u001b[1;31mModuleNotFoundError\u001b[0m                       Traceback (most recent call last)",
      "\u001b[1;32m<ipython-input-1-34be7221b6fd>\u001b[0m in \u001b[0;36m<module>\u001b[1;34m()\u001b[0m\n\u001b[0;32m     34\u001b[0m \u001b[0mInsert\u001b[0m \u001b[0minto\u001b[0m \u001b[0ma\u001b[0m \u001b[0mpriority\u001b[0m \u001b[0mqueue\u001b[0m\u001b[1;33m.\u001b[0m \u001b[1;32mand\u001b[0m \u001b[0mget\u001b[0m \u001b[0mthe\u001b[0m \u001b[1;36m3\u001b[0m\u001b[0mrd\u001b[0m \u001b[0mbiggest\u001b[0m \u001b[0melement\u001b[0m\u001b[1;33m.\u001b[0m\u001b[1;33m\u001b[0m\u001b[0m\n\u001b[0;32m     35\u001b[0m \"\"\"\n\u001b[1;32m---> 36\u001b[1;33m \u001b[1;32mimport\u001b[0m \u001b[0mQueue\u001b[0m \u001b[1;32mas\u001b[0m \u001b[0mQ\u001b[0m\u001b[1;33m\u001b[0m\u001b[0m\n\u001b[0m\u001b[0;32m     37\u001b[0m \u001b[1;32mclass\u001b[0m \u001b[0mSolution\u001b[0m\u001b[1;33m(\u001b[0m\u001b[0mobject\u001b[0m\u001b[1;33m)\u001b[0m\u001b[1;33m:\u001b[0m\u001b[1;33m\u001b[0m\u001b[0m\n\u001b[0;32m     38\u001b[0m     \u001b[1;32mdef\u001b[0m \u001b[0mthirdMax\u001b[0m\u001b[1;33m(\u001b[0m\u001b[0mself\u001b[0m\u001b[1;33m,\u001b[0m \u001b[0mnums\u001b[0m\u001b[1;33m)\u001b[0m\u001b[1;33m:\u001b[0m\u001b[1;33m\u001b[0m\u001b[0m\n",
      "\u001b[1;31mModuleNotFoundError\u001b[0m: No module named 'Queue'"
     ]
    }
   ],
   "source": [
    "\"\"\"\n",
    "414: Third Maximum Number\n",
    "=========================\n",
    "\n",
    "Given a non-empty array of integers, return the third maximum number in this array. If it does not exist, return the maximum number. The time complexity must be in O(n).\n",
    "\n",
    "Example 1:\n",
    "\n",
    "Input: [3, 2, 1]\n",
    "\n",
    "Output: 1\n",
    "\n",
    "Explanation: The third maximum is 1.\n",
    "\n",
    "Example 2:\n",
    "\n",
    "Input: [1, 2]\n",
    "\n",
    "Output: 2\n",
    "\n",
    "Explanation: The third maximum does not exist, so the maximum (2) is returned instead.\n",
    "\n",
    "Example 3:\n",
    "\n",
    "Input: [2, 2, 3, 1]\n",
    "\n",
    "Output: 1\n",
    "\n",
    "Explanation: Note that the third maximum here means the third maximum distinct number.\n",
    "Both numbers with value 2 are both considered as second maximum.\n",
    "\n",
    "Approach:\n",
    "=========\n",
    "Insert into a priority queue. and get the 3rd biggest element.\n",
    "\"\"\"\n",
    "import Queue as Q\n",
    "class Solution(object):\n",
    "    def thirdMax(self, nums):\n",
    "        \"\"\"\n",
    "        :type nums: List[int]\n",
    "        :rtype: int\n",
    "        \"\"\"\n",
    "        \n",
    "        if (len(set(nums))<=2):\n",
    "            return max(nums)\n",
    "        q = Q.PriorityQueue()\n",
    "        for item in set(nums):\n",
    "            #print (\"inserted \",item,\" into queeue\")\n",
    "            q.put(-item)\n",
    "        #print (\"inserted into qu\")\n",
    "        q.get()\n",
    "        q.get()\n",
    "        return (-q.get())\n",
    "\n",
    "mysol = Solution()\n",
    "print (mysol.thirdMax([2, 2, 3, 1,0,1,0]))"
   ]
  }
 ],
 "metadata": {
  "kernelspec": {
   "display_name": "Python 3",
   "language": "python",
   "name": "python3"
  },
  "language_info": {
   "codemirror_mode": {
    "name": "ipython",
    "version": 3
   },
   "file_extension": ".py",
   "mimetype": "text/x-python",
   "name": "python",
   "nbconvert_exporter": "python",
   "pygments_lexer": "ipython3",
   "version": "3.6.4"
  }
 },
 "nbformat": 4,
 "nbformat_minor": 2
}
