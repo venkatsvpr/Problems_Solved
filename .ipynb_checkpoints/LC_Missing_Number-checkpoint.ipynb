{
 "cells": [
  {
   "cell_type": "code",
   "execution_count": 7,
   "metadata": {},
   "outputs": [
    {
     "name": "stdout",
     "output_type": "stream",
     "text": [
      "2\n",
      "8\n"
     ]
    }
   ],
   "source": [
    "\"\"\"\n",
    "Given an array containing n distinct numbers taken from 0, 1, 2, ..., n, find the one that is missing from the array.\n",
    "\n",
    "Example 1\n",
    "\n",
    "Input: [3,0,1]\n",
    "Output: 2\n",
    "Example 2\n",
    "\n",
    "Input: [9,6,4,2,3,5,7,0,1]\n",
    "Output: 8\n",
    "\n",
    "Note:\n",
    "Your algorithm should run in linear runtime complexity. Could you implement it using only constant extra space complexity?\n",
    "\n",
    "We use the Gauss fromula to find the summ till n. Also we compute the sum of all the numbers.\n",
    "If there is a difference. The difference is our answer.\n",
    "If zero is not found. zero is the answer.\n",
    "If the sums match. then  max_num + 1 is the answer.\n",
    "\"\"\"\n",
    "\n",
    "class Solution(object):\n",
    "    def missingNumber(self, nums):\n",
    "        \"\"\"\n",
    "        :type nums: List[int]\n",
    "        :rtype: int\n",
    "        \"\"\"\n",
    "        find_max = -1\n",
    "        sum_now = 0\n",
    "        zero_found = False\n",
    "        for num in nums:\n",
    "            if (num == 0):\n",
    "                zero_found = True;\n",
    "                continue;\n",
    "            sum_now += num\n",
    "            if (num > find_max):\n",
    "                find_max = num\n",
    "        new_sum = ((find_max) * (find_max+1))/2\n",
    "        if (sum_now == 0):\n",
    "            return 1\n",
    "        if (zero_found == False):\n",
    "            return 0\n",
    "        elif (new_sum -sum_now > 0):\n",
    "            return int(new_sum-sum_now)\n",
    "        else:\n",
    "            return int(find_max + 1)\n",
    "\n",
    "\n",
    "mysol = Solution()\n",
    "\n",
    "print (mysol.missingNumber([3,0,1]))\n",
    "print (mysol.missingNumber([9,6,4,2,3,5,7,0,1])) "
   ]
  }
 ],
 "metadata": {
  "kernelspec": {
   "display_name": "Python 3",
   "language": "python",
   "name": "python3"
  },
  "language_info": {
   "codemirror_mode": {
    "name": "ipython",
    "version": 3
   },
   "file_extension": ".py",
   "mimetype": "text/x-python",
   "name": "python",
   "nbconvert_exporter": "python",
   "pygments_lexer": "ipython3",
   "version": "3.6.3"
  }
 },
 "nbformat": 4,
 "nbformat_minor": 2
}
