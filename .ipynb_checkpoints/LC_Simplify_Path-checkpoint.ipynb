{
 "cells": [
  {
   "cell_type": "code",
   "execution_count": 3,
   "metadata": {},
   "outputs": [
    {
     "name": "stdout",
     "output_type": "stream",
     "text": [
      "/home\n",
      "/c\n",
      "/\n",
      "/home/foo\n"
     ]
    }
   ],
   "source": [
    "\"\"\"\n",
    "71. Simplify Path\n",
    "=================\n",
    "https://leetcode.com/problems/simplify-path/description/\n",
    "========================================================\n",
    "\n",
    "Given an absolute path for a file (Unix-style), simplify it.\n",
    "\n",
    "For example,\n",
    "path = \"/home/\", => \"/home\"\n",
    "path = \"/a/./b/../../c/\", => \"/c\"\n",
    "click to show corner cases.\n",
    "\n",
    "Corner Cases:\n",
    "Did you consider the case where path = \"/../\"?\n",
    "In this case, you should return \"/\".\n",
    "Another corner case is the path might contain multiple slashes '/' together, such as \"/home//foo/\".\n",
    "In this case, you should ignore redundant slashes and return \"/home/foo\".\n",
    "\n",
    "\n",
    "approach:\n",
    "=========\n",
    "push the  folder names to a stack. if encounter .. pop the top  at the end.\n",
    "whatever is there in the stack is our expected answer\n",
    "\"\"\"\n",
    "\n",
    "import string\n",
    "class Solution(object):\n",
    "    def simplifyPath(self, path):\n",
    "        \"\"\"\n",
    "        :type path: str\n",
    "        :rtype: str\n",
    "        \"\"\"\n",
    "        \n",
    "        if (path is None) or (len(path) == 0):\n",
    "            return \"\"\n",
    "        \n",
    "        str.replace(path,\"//\",\"/\")\n",
    "        lt = path.split(\"/\")\n",
    "        Ans = []\n",
    "        \n",
    "        for index,item in enumerate(lt):\n",
    "            if (item is None) or (str(item) == \".\"):\n",
    "                continue;\n",
    "            if (str(item) == \"..\"):\n",
    "                if (len(Ans) > 0):\n",
    "                    Ans.pop()\n",
    "            elif (str(item) == \".\") or (str(item) == \" \") or (str(item) == \"\"):\n",
    "                continue;\n",
    "            else:\n",
    "                Ans.append(str(item))\n",
    "        if (len(Ans) == 0 ):\n",
    "            return  \"/\"\n",
    "        else:\n",
    "            return \"/\"+ \"/\".join(Ans)\n",
    "        \n",
    "mysol = Solution()\n",
    "str_in = \"/home/\"\n",
    "print (mysol.simplifyPath(str_in))\n",
    "str_in = \"/a/./b/../../c/\"\n",
    "print (mysol.simplifyPath(str_in))\n",
    "str_in = \"/../\"\n",
    "print (mysol.simplifyPath(str_in))\n",
    "str_in = \"/home//foo/\"\n",
    "print (mysol.simplifyPath(str_in))"
   ]
  }
 ],
 "metadata": {
  "kernelspec": {
   "display_name": "Python 3",
   "language": "python",
   "name": "python3"
  },
  "language_info": {
   "codemirror_mode": {
    "name": "ipython",
    "version": 3
   },
   "file_extension": ".py",
   "mimetype": "text/x-python",
   "name": "python",
   "nbconvert_exporter": "python",
   "pygments_lexer": "ipython3",
   "version": "3.6.3"
  }
 },
 "nbformat": 4,
 "nbformat_minor": 2
}
