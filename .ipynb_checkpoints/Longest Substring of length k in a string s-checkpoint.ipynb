{
 "cells": [
  {
   "cell_type": "code",
   "execution_count": 9,
   "metadata": {},
   "outputs": [
    {
     "name": "stdout",
     "output_type": "stream",
     "text": [
      "i,c 0 e {}\n",
      "i,c 1 c {'e': 0}\n",
      "i,c 2 e {'e': 0, 'c': 1}\n",
      "i,c 3 b {'e': 2, 'c': 1}\n",
      "i,c 4 a {'e': 2, 'b': 3}\n",
      "3\n",
      "i,c 0 h {}\n",
      "i,c 1 e {'h': 0}\n",
      "i,c 2 l {'h': 0, 'e': 1}\n",
      "i,c 3 l {'h': 0, 'e': 1, 'l': 2}\n",
      "i,c 4 o {'h': 0, 'e': 1, 'l': 3}\n",
      "i,c 5 w {'h': 0, 'e': 1, 'l': 3, 'o': 4}\n",
      "i,c 6 o {'e': 1, 'l': 3, 'o': 4, 'w': 5}\n",
      "i,c 7 r {'e': 1, 'l': 3, 'o': 6, 'w': 5}\n",
      "i,c 8 l {'l': 3, 'o': 6, 'w': 5, 'r': 7}\n",
      "i,c 9 d {'l': 8, 'o': 6, 'w': 5, 'r': 7}\n",
      "i,c 10 h {'l': 8, 'o': 6, 'r': 7, 'd': 9}\n",
      "i,c 11 o {'l': 8, 'r': 7, 'd': 9, 'h': 10}\n",
      "i,c 12 w {'l': 8, 'd': 9, 'h': 10, 'o': 11}\n",
      "i,c 13 a {'d': 9, 'h': 10, 'o': 11, 'w': 12}\n",
      "i,c 14 r {'h': 10, 'o': 11, 'w': 12, 'a': 13}\n",
      "i,c 15 e {'o': 11, 'w': 12, 'a': 13, 'r': 14}\n",
      "i,c 16 y {'w': 12, 'a': 13, 'r': 14, 'e': 15}\n",
      "i,c 17 o {'a': 13, 'r': 14, 'e': 15, 'y': 16}\n",
      "i,c 18 u {'r': 14, 'e': 15, 'y': 16, 'o': 17}\n",
      "7\n"
     ]
    }
   ],
   "source": [
    "\"\"\"\n",
    "340 Longest Substring with At Most K Distinct Characters\n",
    "=========================================================\n",
    "Given a string, find the length of the longest substring T that contains at most k distinct characters.\n",
    "For example,Given s = “eceba” and k = 2,\n",
    "T is \"ece\" which its length is 3.\n",
    "\"\"\"\n",
    "\n",
    "class Solution(object):\n",
    "    \n",
    "    \"\"\"\n",
    "    The general idea is to iterate over string s.\n",
    "    Always put the character c and its location i in the dictionary d.\n",
    "    1) If the sliding window contains less than or equal to k distinct characters, simply record the return value, and move on.\n",
    "    2) Otherwise, we need to remove a character from the sliding window.\n",
    "       Here's how to find the character to be removed:\n",
    "       Because the values in d represents the rightmost location of each character in the sliding window, in order to find the longest substring T, we need to locate the smallest location, and remove it from the dictionary, and then record the return value.\n",
    "    \"\"\"\n",
    "    def lengthOfLongestSubstringKDistinct(self, s, k):\n",
    "        \"\"\"\n",
    "        :type s: str\n",
    "        :type k: int\n",
    "        :rtype: int\n",
    "        \"\"\"\n",
    "        # Use dictionary d to keep track of (character, location) pair,\n",
    "        # where location is the rightmost location that the character appears at\n",
    "        d  = {}\n",
    "        max_length =  0\n",
    "        low = 0\n",
    "        for i,c in enumerate(s):\n",
    "            print (\"i,c\",i,c,d)\n",
    "            d[c] = i\n",
    "            if (len(d) > k):\n",
    "                low = min (d.values())\n",
    "                del d[s[low]]\n",
    "                low += 1\n",
    "            max_length = max(max_length, i-low+1)\n",
    "        return max_length\n",
    "answer = Solution()\n",
    "print(answer.lengthOfLongestSubstringKDistinct(\"eceba\",2))\n",
    "print(answer.lengthOfLongestSubstringKDistinct(\"helloworldhowareyou\",4))\n"
   ]
  }
 ],
 "metadata": {
  "kernelspec": {
   "display_name": "Python 3",
   "language": "python",
   "name": "python3"
  },
  "language_info": {
   "codemirror_mode": {
    "name": "ipython",
    "version": 3
   },
   "file_extension": ".py",
   "mimetype": "text/x-python",
   "name": "python",
   "nbconvert_exporter": "python",
   "pygments_lexer": "ipython3",
   "version": "3.6.3"
  }
 },
 "nbformat": 4,
 "nbformat_minor": 2
}
