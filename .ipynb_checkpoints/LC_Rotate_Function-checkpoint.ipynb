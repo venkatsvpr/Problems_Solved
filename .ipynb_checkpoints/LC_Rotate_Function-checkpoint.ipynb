{
 "cells": [
  {
   "cell_type": "code",
   "execution_count": 1,
   "metadata": {},
   "outputs": [
    {
     "name": "stdout",
     "output_type": "stream",
     "text": [
      "26\n"
     ]
    }
   ],
   "source": [
    "\"\"\"\n",
    "396 - Rotate Function\n",
    "---------------------\n",
    "Given an array of integers A and let n to be its length.\n",
    "Assume Bk to be an array obtained by rotating the array A k positions clock-wise, we define a \"rotation function\" F on A as follow:\n",
    "\n",
    "F(k) = 0 * Bk[0] + 1 * Bk[1] + ... + (n-1) * Bk[n-1].\n",
    "\n",
    "Calculate the maximum value of F(0), F(1), ..., F(n-1).\n",
    "\n",
    "Note:\n",
    "n is guaranteed to be less than 105.\n",
    "\n",
    "Example:\n",
    "\n",
    "A = [4, 3, 2, 6]\n",
    "\n",
    "F(0) = (0 * 4) + (1 * 3) + (2 * 2) + (3 * 6) = 0 + 3 + 4 + 18 = 25\n",
    "F(1) = (0 * 6) + (1 * 4) + (2 * 3) + (3 * 2) = 0 + 4 + 6 + 6 = 16\n",
    "F(2) = (0 * 2) + (1 * 6) + (2 * 4) + (3 * 3) = 0 + 6 + 8 + 9 = 23\n",
    "F(3) = (0 * 3) + (1 * 2) + (2 * 6) + (3 * 4) = 0 + 2 + 12 + 12 = 26\n",
    "\n",
    "So the maximum value of F(0), F(1), F(2), F(3) is F(3) = 26.\n",
    "\"\"\"\n",
    "\n",
    "def maxRotateFunction(A):\n",
    "    if (A is None):\n",
    "        return 0;\n",
    "        \n",
    "    s = sum(A)\n",
    "    l = len(A)\n",
    "    result = 0\n",
    "    answer = float('-inf')\n",
    "    for i in range(0,l):\n",
    "        result += i * A[i]\n",
    "        \n",
    "    max_result = result\n",
    "    for item in A:\n",
    "        result += l*item - s\n",
    "        max_result = max(max_result, result)\n",
    "        \n",
    "    return (max_result)\n",
    "\n",
    "A = [4, 3, 2, 6]\n",
    "print (maxRotateFunction(A))"
   ]
  }
 ],
 "metadata": {
  "kernelspec": {
   "display_name": "Python 3",
   "language": "python",
   "name": "python3"
  },
  "language_info": {
   "codemirror_mode": {
    "name": "ipython",
    "version": 3
   },
   "file_extension": ".py",
   "mimetype": "text/x-python",
   "name": "python",
   "nbconvert_exporter": "python",
   "pygments_lexer": "ipython3",
   "version": "3.6.3"
  }
 },
 "nbformat": 4,
 "nbformat_minor": 2
}
