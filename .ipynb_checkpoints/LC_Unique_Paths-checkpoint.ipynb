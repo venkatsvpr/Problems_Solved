{
 "cells": [
  {
   "cell_type": "code",
   "execution_count": 5,
   "metadata": {},
   "outputs": [
    {
     "name": "stdout",
     "output_type": "stream",
     "text": [
      "193536720\n",
      "2\n",
      "1\n",
      "0\n"
     ]
    }
   ],
   "source": [
    "\"\"\"\n",
    "62. Unique Paths\n",
    "\n",
    "A robot is located at the top-left corner of a m x n grid (marked 'Start' in the diagram below).\n",
    "\n",
    "The robot can only move either down or right at any point in time. The robot is trying to reach the bottom-right corner of the grid (marked 'Finish' in the diagram below).\n",
    "\n",
    "How many possible unique paths are there?\n",
    "\n",
    "Approach:\n",
    "=========\n",
    "at any value.. the number of paths is the sum of the number of ways from the box to the right and down.\n",
    "recursively do it.. \n",
    "\n",
    "Add memoisation to increase the performance.\n",
    "\"\"\"\n",
    "class Solution(object):\n",
    "    def uniquePaths(self, m, n):\n",
    "        \"\"\"\n",
    "        :type m: int\n",
    "        :type n: int\n",
    "        :rtype: int\n",
    "        \"\"\"\n",
    "        dp = [[0 for x in range(n)] for y in range(m)]\n",
    "        \n",
    "        def rec_find (i,j,m,n):\n",
    "            #print (i,j,m,n,dp[i][j])\n",
    "            if (i >= m):\n",
    "                return 0\n",
    "            if (j >= n):\n",
    "                return 0;         \n",
    "            if (i == m-2 and j == n-1):\n",
    "                return 1\n",
    "            if (i == m-1 and j == n-2):\n",
    "                return 1\n",
    "            if (i == m-1 and j == n-1):\n",
    "                return 0;\n",
    "            if (dp[i][j] > 0):\n",
    "                return dp[i][j]\n",
    "            dp[i][j] =  rec_find(i+1,j,m,n) + rec_find(i,j+1,m,n)\n",
    "            return dp[i][j]\n",
    "        if (m ==n):\n",
    "            if (m == 1):\n",
    "                return 1\n",
    "        if (m==0 or n==0):\n",
    "            return 0            \n",
    "        dp[m-1][n-1] =  0\n",
    "        return (rec_find(0,0,m,n))\n",
    "        \n",
    "        \n",
    "mysol = Solution()\n",
    "print (mysol.uniquePaths(23,12))\n",
    "print (mysol.uniquePaths(2,2))\n",
    "print (mysol.uniquePaths(1,1))\n",
    "print (mysol.uniquePaths(0,0))\n",
    "        \n",
    "        \n",
    "        "
   ]
  }
 ],
 "metadata": {
  "kernelspec": {
   "display_name": "Python 3",
   "language": "python",
   "name": "python3"
  },
  "language_info": {
   "codemirror_mode": {
    "name": "ipython",
    "version": 3
   },
   "file_extension": ".py",
   "mimetype": "text/x-python",
   "name": "python",
   "nbconvert_exporter": "python",
   "pygments_lexer": "ipython3",
   "version": "3.6.4"
  }
 },
 "nbformat": 4,
 "nbformat_minor": 2
}
