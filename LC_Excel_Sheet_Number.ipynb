{
 "cells": [
  {
   "cell_type": "code",
   "execution_count": 1,
   "metadata": {},
   "outputs": [
    {
     "name": "stdout",
     "output_type": "stream",
     "text": [
      "1\n",
      "27\n",
      "28\n",
      "704\n",
      "705\n"
     ]
    }
   ],
   "source": [
    "\"\"\"\n",
    "171. Excel Sheet Column Number\n",
    "Given a column title as appear in an Excel sheet, return its corresponding column number.\n",
    "\n",
    "For example:\n",
    "\n",
    "    A -> 1\n",
    "    B -> 2\n",
    "    C -> 3\n",
    "    ...\n",
    "    Z -> 26\n",
    "    AA -> 27\n",
    "    AB -> 28 \n",
    "\n",
    "Credits:\n",
    "Special thanks to @ts for adding this problem and creating all test cases.\n",
    "\"\"\"\n",
    "\n",
    "class Solution:\n",
    "    def titleToNumber(self, s):\n",
    "        \"\"\"\n",
    "        :type s: str\n",
    "        :rtype: int\n",
    "        \"\"\"\n",
    "        answer = 0\n",
    "        for ch in s:\n",
    "            answer = answer*26 + ord(ch) - ord('A') + 1\n",
    "        return (answer)\n",
    "\n",
    "test = Solution();\n",
    "print (test.titleToNumber(\"A\"))\n",
    "print (test.titleToNumber(\"AA\"))\n",
    "print (test.titleToNumber(\"AB\"))\n",
    "print (test.titleToNumber(\"AAB\"))\n",
    "print (test.titleToNumber(\"AAC\"))\n"
   ]
  }
 ],
 "metadata": {
  "kernelspec": {
   "display_name": "Python 3",
   "language": "python",
   "name": "python3"
  },
  "language_info": {
   "codemirror_mode": {
    "name": "ipython",
    "version": 3
   },
   "file_extension": ".py",
   "mimetype": "text/x-python",
   "name": "python",
   "nbconvert_exporter": "python",
   "pygments_lexer": "ipython3",
   "version": "3.6.3"
  }
 },
 "nbformat": 4,
 "nbformat_minor": 2
}
