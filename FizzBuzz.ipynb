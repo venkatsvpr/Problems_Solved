{
 "cells": [
  {
   "cell_type": "code",
   "execution_count": 6,
   "metadata": {},
   "outputs": [
    {
     "name": "stdout",
     "output_type": "stream",
     "text": [
      "[]\n",
      "['1', '2', 'Fizz', '4', 'Buzz']\n",
      "['1', '2', 'Fizz', '4', 'Buzz', 'Fizz', '7', '8', 'Fizz', 'Buzz', '11', 'Fizz', '13', '14', 'FizzBuzz']\n"
     ]
    }
   ],
   "source": [
    "\"\"\"\n",
    "412 Fizz Buzz:\n",
    "===============    \n",
    "Write a program that outputs the string representation of numbers from 1 to n.\n",
    "But for multiples of three it should output “Fizz” instead of the number and for the multiples of five output “Buzz”. For numbers which are multiples of both three and five output “FizzBuzz”.\n",
    "Example:\n",
    "n = 15,\n",
    "Return:\n",
    "[\n",
    "    \"1\",\n",
    "    \"2\",\n",
    "    \"Fizz\",\n",
    "    \"4\",\n",
    "    \"Buzz\",\n",
    "    \"Fizz\",\n",
    "    \"7\",\n",
    "    \"8\",\n",
    "    \"Fizz\",\n",
    "    \"Buzz\",\n",
    "    \"11\",\n",
    "    \"Fizz\",\n",
    "    \"13\",\n",
    "    \"14\",\n",
    "    \"FizzBuzz\"\n",
    "]\n",
    "\"\"\"\n",
    "\n",
    "def fizzBuzz(n): \n",
    "    \"\"\"\n",
    "    :type n: int\n",
    "    :rtype: List[str]\n",
    "    \"\"\"\n",
    "    Answer = []\n",
    "    if (n == 0):\n",
    "        return Answer\n",
    "        \n",
    "    for i in range(1,n+1):\n",
    "        if ((i%3 == 0) and (i%5 == 0)):\n",
    "            Answer.append(\"FizzBuzz\")\n",
    "        elif (i%3 == 0):\n",
    "            Answer.append(\"Fizz\")\n",
    "        elif (i%5 == 0):\n",
    "            Answer.append(\"Buzz\")\n",
    "        else:\n",
    "            Answer.append(str(i))\n",
    "    return (Answer)\n",
    "\n",
    "print (fizzBuzz(0))\n",
    "print (fizzBuzz(5))\n",
    "print (fizzBuzz(15))"
   ]
  }
 ],
 "metadata": {
  "kernelspec": {
   "display_name": "Python 3",
   "language": "python",
   "name": "python3"
  },
  "language_info": {
   "codemirror_mode": {
    "name": "ipython",
    "version": 3
   },
   "file_extension": ".py",
   "mimetype": "text/x-python",
   "name": "python",
   "nbconvert_exporter": "python",
   "pygments_lexer": "ipython3",
   "version": "3.6.3"
  }
 },
 "nbformat": 4,
 "nbformat_minor": 2
}
