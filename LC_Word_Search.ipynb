{
 "cells": [
  {
   "cell_type": "code",
   "execution_count": 2,
   "metadata": {},
   "outputs": [
    {
     "name": "stdout",
     "output_type": "stream",
     "text": [
      "[(0, 0), (2, 0)]\n",
      "True\n"
     ]
    }
   ],
   "source": [
    "\"\"\"\n",
    "https://leetcode.com/problems/word-search/description/\n",
    "\n",
    "Given a 2D board and a word, find if the word exists in the grid.\n",
    "\n",
    "The word can be constructed from letters of sequentially adjacent cell, where \"adjacent\" cells are those horizontally or vertically neighboring. The same letter cell may not be used more than once.\n",
    "\n",
    "For example,\n",
    "Given board =\n",
    "\n",
    "[\n",
    "  ['A','B','C','E'],\n",
    "  ['S','F','C','S'],\n",
    "  ['A','D','E','E']\n",
    "]\n",
    "\n",
    "word = \"ABCCED\", -> returns true,\n",
    "word = \"SEE\", -> returns true,\n",
    "word = \"ABCB\", -> returns false.\n",
    "\n",
    "\n",
    "Approach:\n",
    "Start from points which has the first character same as that of the string and do a depth first search\n",
    "\"\"\"\n",
    "class Solution:\n",
    "    def exist(self, board, word):\n",
    "        \"\"\"\n",
    "        :type board: List[List[str]]\n",
    "        :type word: str\n",
    "        :rtype: bool\n",
    "        \"\"\"\n",
    "        def it_find (x,y,board,word):\n",
    "            #print (\"x,y\",x,y,\"word\",word,visited)\n",
    "            if ((x,y) in visited):\n",
    "                if (visited[(x,y)]):\n",
    "                    return False;\n",
    "            \n",
    "            if (len(word) == 0):\n",
    "                #print (\"return true\")\n",
    "                return True;\n",
    "            \n",
    "            if (x<0) or (y<0) or (x>=len(board)) or y>=len(board[0]):\n",
    "                #print (\"return false\")\n",
    "                return False;\n",
    "            \n",
    "\n",
    "    \n",
    "            if board[x][y] == word[0]:\n",
    "                visited[(x,y)] = True;\n",
    "                #print (\"match found in x,y\",x,y)\n",
    "                if (it_find(x,y-1,board,word[1:]) or it_find(x,y+1,board,word[1:]) or it_find(x-1,y,board,word[1:]) or it_find(x+1,y,board,word[1:])):\n",
    "                    return True;\n",
    "                visited[(x,y)] = False;\n",
    "\n",
    "            return False;\n",
    "                           \n",
    "        start_points = []\n",
    "        for i in range(len(board)):\n",
    "            for j in range(len(board[0])):\n",
    "                if (board[i][j] == word[0]):\n",
    "                    start_points.append((i,j))\n",
    "\n",
    "        #print (start_points)\n",
    "        for x,y in start_points:\n",
    "            visited = dict()\n",
    "            retval = it_find(x,y,board,word)\n",
    "            if (retval == True):\n",
    "                return True;\n",
    "        return False;\n",
    "    \n",
    "mysol = Solution ()\n",
    "print (mysol.exist ([[\"A\",\"B\",\"C\",\"E\"],[\"S\",\"F\",\"E\",\"S\"],[\"A\",\"D\",\"E\",\"E\"]],\"ABCESEEEFS\"))"
   ]
  }
 ],
 "metadata": {
  "kernelspec": {
   "display_name": "Python 3",
   "language": "python",
   "name": "python3"
  },
  "language_info": {
   "codemirror_mode": {
    "name": "ipython",
    "version": 3
   },
   "file_extension": ".py",
   "mimetype": "text/x-python",
   "name": "python",
   "nbconvert_exporter": "python",
   "pygments_lexer": "ipython3",
   "version": "3.6.4"
  }
 },
 "nbformat": 4,
 "nbformat_minor": 2
}
