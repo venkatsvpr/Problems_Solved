{
 "cells": [
  {
   "cell_type": "code",
   "execution_count": null,
   "metadata": {},
   "outputs": [],
   "source": [
    "\"\"\"\n",
    "Given two sorted integer arrays nums1 and nums2, merge nums2 into nums1 as one sorted array.\n",
    "\n",
    "Note:\n",
    "You may assume that nums1 has enough space (size that is greater or equal to m + n) to hold additional elements from nums2. The number of elements initialized in nums1 and nums2 are m and n respectively.\n",
    "\n",
    "Approach:\n",
    "========\n",
    "Merge backside. loop\n",
    "\n",
    "\"\"\"\n",
    "\n",
    "class Solution:\n",
    "    def merge(self, nums1, m, nums2, n):\n",
    "        \"\"\"\n",
    "        :type nums1: List[int]\n",
    "        :type m: int\n",
    "        :type nums2: List[int]\n",
    "        :type n: int\n",
    "        :rtype: void Do not return anything, modify nums1 in-place instead.\n",
    "        \"\"\"\n",
    "        i = m-1;\n",
    "        j = n-1;\n",
    "        for k in range(m+n-1,-1,-1):\n",
    "            if (i<0):\n",
    "                nums1[k] = nums2[j]\n",
    "                j -=1\n",
    "            elif (j<0):\n",
    "                nums1[k] = nums1[i]\n",
    "                i -= 1\n",
    "            elif (nums1[i] < nums2[j]):\n",
    "                nums1[k] = nums2[j]\n",
    "                j -= 1\n",
    "            elif (nums1[i] >= nums2[j]):\n",
    "                nums1[k] = nums1[i]\n",
    "                i -= 1\n",
    "            k -= 1\n"
   ]
  }
 ],
 "metadata": {
  "kernelspec": {
   "display_name": "Python 3",
   "language": "python",
   "name": "python3"
  },
  "language_info": {
   "codemirror_mode": {
    "name": "ipython",
    "version": 3
   },
   "file_extension": ".py",
   "mimetype": "text/x-python",
   "name": "python",
   "nbconvert_exporter": "python",
   "pygments_lexer": "ipython3",
   "version": "3.6.4"
  }
 },
 "nbformat": 4,
 "nbformat_minor": 2
}
