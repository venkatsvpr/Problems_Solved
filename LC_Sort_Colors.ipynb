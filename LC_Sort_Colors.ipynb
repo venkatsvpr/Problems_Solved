{
 "cells": [
  {
   "cell_type": "code",
   "execution_count": 4,
   "metadata": {},
   "outputs": [
    {
     "name": "stdout",
     "output_type": "stream",
     "text": [
      "actual array [0, 1, 2, 0, 1, 2, 0, 1, 2]\n",
      "processed array [0, 0, 0, 1, 1, 1, 2, 2, 2]\n"
     ]
    }
   ],
   "source": [
    "\"\"\"\n",
    "Sort colors:\n",
    "===========\n",
    "Given an array with n objects colored red, white or blue, sort them so that objects of the same color are adjacent, with the colors in the order red, white and blue.\n",
    "\n",
    "Here, we will use the integers 0, 1, and 2 to represent the color red, white, and blue respectively.\n",
    "\n",
    "Note:\n",
    "You are not suppose to use the library's sort function for this problem.\n",
    "\n",
    "\n",
    "One Pass Solution:\n",
    "==================\n",
    "Start from first Have three pointers Red,White,Blue initialize red,white = 0 blue = len(nums)-1\n",
    "Red is denoted by 0 , White is denoted by 1, Blue is denoted by 2\n",
    "\n",
    "If Red is found.. swap red/white and increement red and white position\n",
    "If white is found. increment the position of white\n",
    "If Blue is found.. Swap white/blue. decremenet the position of blue.\n",
    "\n",
    "Two Pass solution:\n",
    "==================\n",
    "Start from the first and keep a count of the Red , Bblue, White.\n",
    "At the end over-write the actual array by Red, Blue and White\n",
    "\"\"\"\n",
    "\n",
    "\n",
    "class Solution(object):\n",
    "    def sortColors(self, nums):\n",
    "        \"\"\"\n",
    "        :type nums: List[int]\n",
    "        :rtype: void Do not return anything, modify nums in-place instead.\n",
    "        \"\"\"\n",
    "        if nums is None:\n",
    "            return None\n",
    "        \n",
    "        red = 0\n",
    "        white = 0\n",
    "        blue = len(nums)-1\n",
    "        while (white <= blue):\n",
    "            if (nums[white] == 0):\n",
    "                nums[red] , nums[white] = nums[white] , nums[red]\n",
    "                red += 1\n",
    "                white += 1\n",
    "            elif (nums[white] == 1):\n",
    "                white += 1\n",
    "            else:\n",
    "                nums[white] , nums[blue] = nums[blue],nums[white]\n",
    "                blue -= 1\n",
    "\n",
    "                \n",
    "mysol = Solution ()\n",
    "test_ary = [0,1,2,0,1,2,0,1,2]\n",
    "print(\"actual array\",test_ary)\n",
    "mysol.sortColors(test_ary)\n",
    "print(\"processed array\",test_ary)                    \n",
    "    "
   ]
  }
 ],
 "metadata": {
  "kernelspec": {
   "display_name": "Python 3",
   "language": "python",
   "name": "python3"
  },
  "language_info": {
   "codemirror_mode": {
    "name": "ipython",
    "version": 3
   },
   "file_extension": ".py",
   "mimetype": "text/x-python",
   "name": "python",
   "nbconvert_exporter": "python",
   "pygments_lexer": "ipython3",
   "version": "3.6.3"
  }
 },
 "nbformat": 4,
 "nbformat_minor": 2
}
