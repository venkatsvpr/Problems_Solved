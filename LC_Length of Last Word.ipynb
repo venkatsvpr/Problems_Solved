{
 "cells": [
  {
   "cell_type": "code",
   "execution_count": 1,
   "metadata": {},
   "outputs": [
    {
     "name": "stdout",
     "output_type": "stream",
     "text": [
      "1\n",
      "3\n",
      "1\n",
      "1\n",
      "2\n"
     ]
    }
   ],
   "source": [
    "\"\"\"\n",
    "Given a string s consists of upper/lower-case alphabets and empty space characters ' ', return the length of last word in the string.\n",
    "\n",
    "If the last word does not exist, return 0.\n",
    "\n",
    "Note: A word is defined as a character sequence consists of non-space characters only.\n",
    "\n",
    "Example:\n",
    "\n",
    "Input: \"Hello World\"\n",
    "Output: 5\n",
    "\n",
    "\n",
    "Approach:\n",
    "See from the end and count the number  of non spaces.\n",
    "If the string ends with space. count till the next space.\n",
    "\"\"\"\n",
    "\n",
    "class Solution(object):\n",
    "    def lengthOfLastWord(self, s):\n",
    "        end = len(s)-1\n",
    "        \"\"\"\n",
    "        :type s: str\n",
    "        :rtype: int\n",
    "        \"\"\"\n",
    "        count = 0;\n",
    "        if (end < 0):\n",
    "            return 0\n",
    "        \n",
    "        while (end >= 0):\n",
    "            if (s[end] == \" \"):\n",
    "                if (count >0):\n",
    "                    break;\n",
    "                end -=1 \n",
    "                continue;\n",
    "            count += 1\n",
    "            end -= 1\n",
    "        return count;\n",
    "\n",
    "mysol = Solution()\n",
    "print (mysol.lengthOfLastWord(\"a\"))\n",
    "print (mysol.lengthOfLastWord(\"abc\"))\n",
    "print (mysol.lengthOfLastWord(\" a\"))\n",
    "print (mysol.lengthOfLastWord(\"a \"))\n",
    "print (mysol.lengthOfLastWord(\" aa \"))"
   ]
  }
 ],
 "metadata": {
  "kernelspec": {
   "display_name": "Python 3",
   "language": "python",
   "name": "python3"
  },
  "language_info": {
   "codemirror_mode": {
    "name": "ipython",
    "version": 3
   },
   "file_extension": ".py",
   "mimetype": "text/x-python",
   "name": "python",
   "nbconvert_exporter": "python",
   "pygments_lexer": "ipython3",
   "version": "3.6.4"
  }
 },
 "nbformat": 4,
 "nbformat_minor": 2
}
