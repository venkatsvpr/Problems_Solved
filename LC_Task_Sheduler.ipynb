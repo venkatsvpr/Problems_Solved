{
 "cells": [
  {
   "cell_type": "code",
   "execution_count": 1,
   "metadata": {},
   "outputs": [
    {
     "name": "stdout",
     "output_type": "stream",
     "text": [
      "8\n",
      "10\n",
      "11\n",
      "3\n"
     ]
    }
   ],
   "source": [
    "\"\"\"\n",
    "https://leetcode.com/problems/task-scheduler/description/\n",
    "\n",
    "Given a char array representing tasks CPU need to do. It contains capital letters A to Z where different letters represent different tasks.Tasks could be done without original order. Each task could be done in one interval. For each interval, CPU could finish one task or just be idle.\n",
    "\n",
    "However, there is a non-negative cooling interval n that means between two same tasks, there must be at least n intervals that CPU are doing different tasks or just be idle.\n",
    "\n",
    "You need to return the least number of intervals the CPU will take to finish all the given tasks.\n",
    "\n",
    "Example 1:\n",
    "\n",
    "Input: tasks = [\"A\",\"A\",\"A\",\"B\",\"B\",\"B\"], n = 2\n",
    "Output: 8\n",
    "Explanation: A -> B -> idle -> A -> B -> idle -> A -> B.\n",
    "\n",
    "Note:\n",
    "\n",
    "    The number of tasks is in the range [1, 10000].\n",
    "    The int\n",
    "\n",
    "    eger n is in the range [0, 100].\n",
    "\n",
    "\n",
    "Approach:\n",
    "=========\n",
    "Count the number of Tasks. Find the task that hits multiple times.\n",
    "find the idle spots by , max-1 * n\n",
    "for all tasks that are less than the max task. subtract it from the idle task.\n",
    "if the result idle_Task is greatern than zero.. return idle_task + length(Tasks)\n",
    "else return  lenght(Tasks)\n",
    "\n",
    "\"\"\"\n",
    "\n",
    "import collections\n",
    "class Solution:\n",
    "    def leastInterval(self, tasks, n):\n",
    "        \"\"\"\n",
    "        :type tasks: List[str]\n",
    "        :type n: int\n",
    "        :rtype: int\n",
    "        \"\"\"   \n",
    "        tdict = collections.Counter()\n",
    "        max_val = -1\n",
    "        max_index = -1\n",
    "        for task in tasks:\n",
    "            tdict[task] += 1\n",
    "            if (max_val < tdict[task]):\n",
    "                max_val = tdict[task]\n",
    "                max_index  = task;\n",
    "                \n",
    "        # This is done because after the last process we dont need cool down.\n",
    "        max_val -= 1\n",
    "        idle_slots = max_val * n\n",
    "        \n",
    "        for key in tdict:\n",
    "            if (key == max_index):\n",
    "                continue;\n",
    "            # Only consider till max_val which is one less than actual. because we dont need\n",
    "            # cool down after the last round of execution\n",
    "            idle_slots  -= min(max_val,tdict[key])\n",
    "        \n",
    "        if (idle_slots > 0):\n",
    "            return idle_slots + len(tasks)\n",
    "        else:\n",
    "            return len(tasks)   \n",
    "mysol = Solution()\n",
    "print (mysol.leastInterval([\"A\",\"A\",\"A\",\"B\",\"B\",\"B\"],2))\n",
    "print (mysol.leastInterval([\"A\",\"A\",\"A\",\"B\",\"B\",\"B\"],3))\n",
    "print (mysol.leastInterval([\"A\",\"A\",\"A\",\"B\",\"B\",\"B\",\"C\",\"C\",\"C\"],3))\n",
    "print (mysol.leastInterval([\"a\",\"b\",\"c\"],1))"
   ]
  }
 ],
 "metadata": {
  "kernelspec": {
   "display_name": "Python 3",
   "language": "python",
   "name": "python3"
  },
  "language_info": {
   "codemirror_mode": {
    "name": "ipython",
    "version": 3
   },
   "file_extension": ".py",
   "mimetype": "text/x-python",
   "name": "python",
   "nbconvert_exporter": "python",
   "pygments_lexer": "ipython3",
   "version": "3.6.4"
  }
 },
 "nbformat": 4,
 "nbformat_minor": 2
}
