{
 "cells": [
  {
   "cell_type": "code",
   "execution_count": 2,
   "metadata": {},
   "outputs": [
    {
     "name": "stdout",
     "output_type": "stream",
     "text": [
      "False\n",
      "True\n",
      "False\n"
     ]
    }
   ],
   "source": [
    "\"\"\"\n",
    "217. Contains Duplicate\n",
    "=======================\n",
    "Given an array of integers, find if the array contains any duplicates. \n",
    "Your function should return true if any value appears at least twice in the array,\n",
    "and it should return false if every element is distinct.\n",
    "\n",
    "\"\"\"\n",
    "import collections\n",
    "class Solution(object):\n",
    "    def containsDuplicate(self, nums):\n",
    "        \"\"\"\n",
    "        :type nums: List[int]\n",
    "        :rtype: bool\n",
    "        \"\"\"\n",
    "        if nums is None:\n",
    "            return false;\n",
    "        \n",
    "        d = collections.Counter();\n",
    "        for num in nums:\n",
    "            if (d[num] == 1):\n",
    "                return True;\n",
    "            d[num] += 1\n",
    "        return False\n",
    "mysol = Solution()\n",
    "print (mysol.containsDuplicate([1,2,3,4,5]))\n",
    "print (mysol.containsDuplicate([1,2,3,4,5,2]))\n",
    "print (mysol.containsDuplicate([]))"
   ]
  }
 ],
 "metadata": {
  "kernelspec": {
   "display_name": "Python 3",
   "language": "python",
   "name": "python3"
  },
  "language_info": {
   "codemirror_mode": {
    "name": "ipython",
    "version": 3
   },
   "file_extension": ".py",
   "mimetype": "text/x-python",
   "name": "python",
   "nbconvert_exporter": "python",
   "pygments_lexer": "ipython3",
   "version": "3.6.3"
  }
 },
 "nbformat": 4,
 "nbformat_minor": 2
}
