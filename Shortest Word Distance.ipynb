{
 "cells": [
  {
   "cell_type": "code",
   "execution_count": 3,
   "metadata": {},
   "outputs": [
    {
     "ename": "SyntaxError",
     "evalue": "invalid syntax (<ipython-input-3-2bf36f9bf743>, line 38)",
     "output_type": "error",
     "traceback": [
      "\u001b[1;36m  File \u001b[1;32m\"<ipython-input-3-2bf36f9bf743>\"\u001b[1;36m, line \u001b[1;32m38\u001b[0m\n\u001b[1;33m    print (mini)\u001b[0m\n\u001b[1;37m        ^\u001b[0m\n\u001b[1;31mSyntaxError\u001b[0m\u001b[1;31m:\u001b[0m invalid syntax\n"
     ]
    }
   ],
   "source": [
    "\"\"\"\n",
    "243 - Shortest Word Distance\n",
    "\n",
    "Given a list of words and two words word1 and word2, return the shortest distance between these two words in the list.\n",
    "For example,\n",
    "Assume that words = [\"practice\", \"makes\", \"perfect\", \"coding\", \"makes\"].\n",
    "Given word1 = “coding”, word2 = “practice”, return 3.\n",
    "Given word1 = \"makes\", word2 = \"coding\", return 1.\n",
    "Note:\n",
    "You may assume that word1 does not equal to word2, and word1 and word2 are both in the list.\n",
    "\n",
    "Approach:\n",
    "========\n",
    "Brute force would be to find word1 and then find word2 and repeat it for all word1 in words.\n",
    "This will take n^2 complexity\n",
    "\n",
    "Better logic:\n",
    "=============\n",
    "Have two positions pos1, pos2. to denote the recent position of word1 and word2.\n",
    "Loop through all the elements in  word. update the pos1,pos2 on successfull find of word1,word2\n",
    "Update the min distance from the pos1,pos2.  Repeat it through the words list.\n",
    "\n",
    "The complexity will be O(n)\n",
    "This problem cant be solved in less than linear complexity since we have to  see all the points at least once.\n",
    "\"\"\"\n",
    "\n",
    "def shortest_word_distance (words, word1, word2):\n",
    "    pos1 = -1\n",
    "    pos2 = -1\n",
    "    mini = float('inf')\n",
    "    for index,element in enumerate(words):\n",
    "        if (element == word1):\n",
    "            pos1 = index\n",
    "        elif (element == word2):\n",
    "            pos2 = index\n",
    "        if ((pos1 != -1) and (pos2 != -1)):\n",
    "            mini = min (mini, abs(pos1-pos2)\n",
    "    print (mini)\n",
    "    \n",
    "words = [\"practice\", \"makes\", \"perfect\", \"coding\", \"makes\"]\n",
    "print (\"coding\",\"practice\",\"Distance is \",shortest_word_distance(words,\"coding\",\"practice\"))\n",
    "print (\"makes\",\"coding\",\"Distance is \",shortest_word_distance(words,\"makes\",\"coding\"))"
   ]
  }
 ],
 "metadata": {
  "kernelspec": {
   "display_name": "Python 3",
   "language": "python",
   "name": "python3"
  },
  "language_info": {
   "codemirror_mode": {
    "name": "ipython",
    "version": 3
   },
   "file_extension": ".py",
   "mimetype": "text/x-python",
   "name": "python",
   "nbconvert_exporter": "python",
   "pygments_lexer": "ipython3",
   "version": "3.6.3"
  }
 },
 "nbformat": 4,
 "nbformat_minor": 2
}
