{
 "cells": [
  {
   "cell_type": "code",
   "execution_count": 1,
   "metadata": {},
   "outputs": [
    {
     "name": "stdout",
     "output_type": "stream",
     "text": [
      "False\n",
      "False\n",
      "True\n"
     ]
    }
   ],
   "source": [
    "\"\"\"\n",
    "125: Valid Palindrome\n",
    "=====================\n",
    "\n",
    "https://leetcode.com/problems/valid-palindrome/description/\n",
    "\n",
    "Given a string, determine if it is a palindrome, considering only alphanumeric characters and ignoring cases.\n",
    "\n",
    "For example,\n",
    "\"A man, a plan, a canal: Panama\" is a palindrome.\n",
    "\"race a car\" is not a palindrome.\n",
    "\n",
    "Note:\n",
    "Have you consider that the string might be empty? This is a good question to ask during an interview.\n",
    "\n",
    "For the purpose of this problem, we define empty string as valid palindrome. \n",
    "\n",
    "Approach:\n",
    "========\n",
    "Ignore the rest of alphanumeric and check palindrome\n",
    "\"\"\"\n",
    "class Solution:\n",
    "    def isPalindrome(self, s):\n",
    "        \"\"\"\n",
    "        :type s: str\n",
    "        :rtype: bool\n",
    "        \"\"\"\n",
    "        if len(s) <= 1:\n",
    "            return True;\n",
    "        \n",
    "        s = s.lower()\n",
    "        st = \"\"\n",
    "        for ch in s:\n",
    "            if ch.isalnum():\n",
    "                st += ch\n",
    "\n",
    "        s = st\n",
    "        i = 0\n",
    "        j = len(s)-1\n",
    "        while (i<len(s)):\n",
    "            if (s[i] != s[j]):\n",
    "                return False\n",
    "            i += 1\n",
    "            j -= 1\n",
    "        return True\n",
    "mysol = Solution()\n",
    "print (mysol.isPalindrome(\"a.b.,\"))\n",
    "print (mysol.isPalindrome(\"abc\"))\n",
    "print (mysol.isPalindrome(\"a.a.\"))\n"
   ]
  }
 ],
 "metadata": {
  "kernelspec": {
   "display_name": "Python 3",
   "language": "python",
   "name": "python3"
  },
  "language_info": {
   "codemirror_mode": {
    "name": "ipython",
    "version": 3
   },
   "file_extension": ".py",
   "mimetype": "text/x-python",
   "name": "python",
   "nbconvert_exporter": "python",
   "pygments_lexer": "ipython3",
   "version": "3.6.4"
  }
 },
 "nbformat": 4,
 "nbformat_minor": 2
}
