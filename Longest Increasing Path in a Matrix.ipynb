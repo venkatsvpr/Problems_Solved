{
 "cells": [
  {
   "cell_type": "code",
   "execution_count": 3,
   "metadata": {},
   "outputs": [
    {
     "name": "stdout",
     "output_type": "stream",
     "text": [
      "4\n",
      "4\n"
     ]
    }
   ],
   "source": [
    "\"\"\"\n",
    "329. Longest Increasing Path in a Matrix\n",
    "\n",
    "Given an integer matrix, find the length of the longest increasing path.\n",
    "\n",
    "From each cell, you can either move to four directions: left, right, up or down. You may NOT move diagonally or move outside of the boundary (i.e. wrap-around is not allowed).\n",
    "\n",
    "Example 1:\n",
    "\n",
    "nums = [\n",
    "  [9,9,4],\n",
    "  [6,6,8],\n",
    "  [2,1,1]\n",
    "]\n",
    "\n",
    "Return 4\n",
    "The longest increasing path is [1, 2, 6, 9].\n",
    "\n",
    "Example 2:\n",
    "\n",
    "nums = [\n",
    "  [3,4,5],\n",
    "  [3,2,6],\n",
    "  [2,2,1]\n",
    "]\n",
    "\n",
    "Return 4\n",
    "The longest increasing path is [3, 4, 5, 6]. Moving diagonally is not allowed.\n",
    "\"\"\"\n",
    "\n",
    "class Solution:\n",
    "    def longestIncreasingPath(self, matrix):\n",
    "        def dfs(i, j):\n",
    "            if not dp[i][j]:\n",
    "                val = matrix[i][j]\n",
    "                temp1 = temp2 = temp3 = temp4 = 0;\n",
    "                if i and val > matrix[i-1][j]:\n",
    "                    temp1 = dfs(i-1, j)\n",
    "                if i < M - 1 and val > matrix[i + 1][j]:\n",
    "                    temp2 = dfs(i+1, j)\n",
    "                if j and val > matrix[i][j - 1]:\n",
    "                    temp3 = dfs (i,j-1)\n",
    "                if j < N - 1 and val > matrix[i][j + 1]:\n",
    "                    temp4 = dfs(i,j+1)\n",
    "                dp[i][j] = 1 + max(temp1, temp2, temp3, temp4)\n",
    "            return dp[i][j]\n",
    "\n",
    "        if not matrix:\n",
    "            return 0\n",
    "        if not matrix[0]:\n",
    "            return 0\n",
    "        \n",
    "        M, N = len(matrix), len(matrix[0])\n",
    "        dp = [[0] * N for i in range(M)]\n",
    "        max_retval = 0\n",
    "        for x in range(M):\n",
    "            for y in range(N):\n",
    "                retval = dfs(x,y)\n",
    "                if (retval > max_retval):\n",
    "                    max_retval = retval\n",
    "        return (max_retval)\n",
    "\n",
    "mysol = Solution()\n",
    "nums = [[9,9,4],[6,6,8],[2,1,1]]\n",
    "print (mysol.longestIncreasingPath(nums))\n",
    "nums2 = [[3,4,5],[3,2,6],[2,2,1]]\n",
    "print (mysol.longestIncreasingPath(nums2))"
   ]
  }
 ],
 "metadata": {
  "kernelspec": {
   "display_name": "Python 3",
   "language": "python",
   "name": "python3"
  },
  "language_info": {
   "codemirror_mode": {
    "name": "ipython",
    "version": 3
   },
   "file_extension": ".py",
   "mimetype": "text/x-python",
   "name": "python",
   "nbconvert_exporter": "python",
   "pygments_lexer": "ipython3",
   "version": "3.6.3"
  }
 },
 "nbformat": 4,
 "nbformat_minor": 2
}
