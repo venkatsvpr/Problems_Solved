{
 "cells": [
  {
   "cell_type": "code",
   "execution_count": null,
   "metadata": {},
   "outputs": [],
   "source": [
    "\"\"\"\n",
    "203. Remove Linked List Elements\n",
    "\n",
    "Remove all elements from a linked list of integers that have value val.\n",
    "\n",
    "Example\n",
    "Given: 1 --> 2 --> 6 --> 3 --> 4 --> 5 --> 6, val = 6\n",
    "Return: 1 --> 2 --> 3 --> 4 --> 5\n",
    "\n",
    "Credits:\n",
    "Special thanks to @mithmatt for adding this problem and creating all test cases.\n",
    "\n",
    "Approach:\n",
    "=========\n",
    "Traverse the linked list and link the elements that are already there.\n",
    "\n",
    "\"\"\"\n",
    "# Definition for singly-linked list.\n",
    "# class ListNode(object):\n",
    "#     def __init__(self, x):\n",
    "#         self.val = x\n",
    "#         self.next = None\n",
    "\n",
    "class Solution(object):\n",
    "    def removeElements(self, head, val):\n",
    "        \"\"\"\n",
    "        :type head: ListNode\n",
    "        :type val: int\n",
    "        :rtype: ListNode\n",
    "        \"\"\"\n",
    "        if (head is None):\n",
    "            return None\n",
    "\n",
    "        while (head):\n",
    "            if (head.val == val):\n",
    "                head = head.next\n",
    "            else:\n",
    "                break;\n",
    "\n",
    "        if (head is None):\n",
    "            return None\n",
    "        node = head.next;\n",
    "        prev = head;\n",
    "        \n",
    "        while (node != None):\n",
    "            if (node.val == val):\n",
    "                if (node.next == None):\n",
    "                    prev.next = None\n",
    "                node = node.next\n",
    "                continue;\n",
    "            else: \n",
    "                prev.next = node\n",
    "                prev = node\n",
    "                node = node.next\n",
    "        return head;\n",
    "            "
   ]
  }
 ],
 "metadata": {
  "kernelspec": {
   "display_name": "Python 3",
   "language": "python",
   "name": "python3"
  },
  "language_info": {
   "codemirror_mode": {
    "name": "ipython",
    "version": 3
   },
   "file_extension": ".py",
   "mimetype": "text/x-python",
   "name": "python",
   "nbconvert_exporter": "python",
   "pygments_lexer": "ipython3",
   "version": "3.6.4"
  }
 },
 "nbformat": 4,
 "nbformat_minor": 2
}
