{
 "cells": [
  {
   "cell_type": "code",
   "execution_count": 11,
   "metadata": {},
   "outputs": [
    {
     "name": "stdout",
     "output_type": "stream",
     "text": [
      "Input [[1, 1], 2, [1, 1]] Answer 8\n",
      "Input [1, [4, [6]]] Answer 17\n"
     ]
    }
   ],
   "source": [
    "\"\"\"\n",
    "364. Nested List Weight Sum II\n",
    "Given a nested list of integers, return the sum of all integers in the list weighted by their depth.\n",
    "Each element is either an integer, or a list -- whose elements may also be integers or other lists.\n",
    "Different from the previous question where weight is increasing from root to leaf, now the weight is defined from bottom up. i.e., the leaf level integers have weight 1, and the root level integers have the largest weight.\n",
    "Example 1:\n",
    "Given the list [[1,1],2,[1,1]], return 8. (four 1's at depth 1, one 2 at depth 2)\n",
    "Example 2:\n",
    "Given the list [1,[4,[6]]], return 17. (one 1 at depth 3, one 4 at depth 2, and one 6 at depth 1; 1*3 + 4*2 + 6*1 = 17)\n",
    "\n",
    "Read the list item by item and store the count for every level.\n",
    "Use the depth and find the answer\n",
    "\"\"\"\n",
    "def Process_Input (in_list):\n",
    "    if in_list is None:\n",
    "        return 0\n",
    "    if (len(in_list) ==0):\n",
    "        return 0\n",
    "    \n",
    "    nestedlist = in_list;\n",
    "    sum = []\n",
    "    depth = 1\n",
    "    while (nestedlist):\n",
    "        New_list = []\n",
    "        temp_sum = 0\n",
    "        for element in nestedlist:\n",
    "            if isinstance (element, int):\n",
    "                temp_sum += element\n",
    "            else:\n",
    "                New_list +=element\n",
    "        nestedlist = New_list\n",
    "        sum.append(temp_sum)\n",
    "        depth += 1\n",
    "    retval = 0\n",
    "    depth = depth-1\n",
    "    for item in sum:2\n",
    "        retval += item*depth\n",
    "        depth -= 1\n",
    "    return retval\n",
    "\n",
    "Input = [[1,1],2,[1,1]]\n",
    "print (\"Input\",Input,\"\\nAnswer\",Process_Input(Input))\n",
    "\n",
    "Input = [1,[4,[6]]]\n",
    "print (\"Input\",Input,\"\\nAnswer\",Process_Input(Input))"
   ]
  }
 ],
 "metadata": {
  "kernelspec": {
   "display_name": "Python 3",
   "language": "python",
   "name": "python3"
  },
  "language_info": {
   "codemirror_mode": {
    "name": "ipython",
    "version": 3
   },
   "file_extension": ".py",
   "mimetype": "text/x-python",
   "name": "python",
   "nbconvert_exporter": "python",
   "pygments_lexer": "ipython3",
   "version": "3.6.3"
  }
 },
 "nbformat": 4,
 "nbformat_minor": 2
}
