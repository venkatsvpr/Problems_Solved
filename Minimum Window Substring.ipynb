{
 "cells": [
  {
   "cell_type": "code",
   "execution_count": 13,
   "metadata": {},
   "outputs": [
    {
     "name": "stdout",
     "output_type": "stream",
     "text": [
      "j,c 1 A\n",
      "j,c 2 A\n",
      "j,c 3 D\n",
      "j,c 4 O\n",
      "j,c 5 B\n",
      "j,c 6 E\n",
      "j,c 7 C\n",
      "j,c 8 O\n",
      "j,c 9 D\n",
      "j,c 10 E\n",
      "j,c 11 B\n",
      "j,c 12 A\n",
      "j,c 13 N\n",
      "j,c 14 C\n"
     ]
    },
    {
     "data": {
      "text/plain": [
       "'BANC'"
      ]
     },
     "execution_count": 13,
     "metadata": {},
     "output_type": "execute_result"
    }
   ],
   "source": [
    "import collections\n",
    "def minWindow(s, t):\n",
    "    need = collections.Counter(t)\n",
    "    missing = len(t)\n",
    "    i = I = J = 0\n",
    "    for j,c in enumerate(s,1):\n",
    "        print (\"j,c\",j,c)\n",
    "        if (need[c] > 0):\n",
    "            missing -= 1\n",
    "        need[c] -=1\n",
    "        if not missing:\n",
    "            while i<j and need[s[i]]<0:\n",
    "                need[s[i]] += 1\n",
    "                i += 1\n",
    "            if not J or j - i <= J -I:\n",
    "                I,J = i,j\n",
    "    return s[I:J]\n",
    "\n",
    "minWindow (\"AADOBECODEBANC\",\"ABC\")"
   ]
  }
 ],
 "metadata": {
  "kernelspec": {
   "display_name": "Python 3",
   "language": "python",
   "name": "python3"
  },
  "language_info": {
   "codemirror_mode": {
    "name": "ipython",
    "version": 3
   },
   "file_extension": ".py",
   "mimetype": "text/x-python",
   "name": "python",
   "nbconvert_exporter": "python",
   "pygments_lexer": "ipython3",
   "version": "3.6.3"
  }
 },
 "nbformat": 4,
 "nbformat_minor": 2
}
