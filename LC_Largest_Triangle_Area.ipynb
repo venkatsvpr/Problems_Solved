{
 "cells": [
  {
   "cell_type": "code",
   "execution_count": 2,
   "metadata": {},
   "outputs": [
    {
     "name": "stdout",
     "output_type": "stream",
     "text": [
      "1.9999999999999993\n",
      "1799.0000000000005\n"
     ]
    }
   ],
   "source": [
    "\"\"\"\n",
    "812. Largest Triangle Area\n",
    "\n",
    "    User Accepted: 899\n",
    "    User Tried: 1118\n",
    "    Total Accepted: 918\n",
    "    Total Submissions: 2008\n",
    "    Difficulty: Easy\n",
    "\n",
    "You have a list of points in the plane. Return the area of the largest triangle that can be formed by any 3 of the points.\n",
    "\n",
    "Example:\n",
    "Input: points = [[0,0],[0,1],[1,0],[0,2],[2,0]]\n",
    "Output: 2\n",
    "Explanation: \n",
    "The five points are show in the figure below. The red triangle is the largest.\n",
    "\n",
    "\n",
    "Approach:\n",
    "========\n",
    "We define a function to find the area of a triangle based on the sides. \n",
    "sqrt(s * (s-a) * (s-b) * (s-c))\n",
    "where s = (a + b +c )/2\n",
    "\"\"\"\n",
    "import math\n",
    "class Solution(object):\n",
    "    def largestTriangleArea(self, points):\n",
    "        \"\"\"\n",
    "        :type points: List[List[int]]\n",
    "        :rtype: float\n",
    "        \"\"\"\n",
    "        def df (x1,x2):\n",
    "            dist = [(a - b)**2 for a, b in zip(x1, x2)]\n",
    "            dist = math.sqrt(sum(dist))\n",
    "            #print (\"dis\",dist)\n",
    "            return dist\n",
    "        def find_area (a1,b1,c1):\n",
    "            a = df(a1,b1)\n",
    "            b = df(b1,c1)\n",
    "            c = df(c1,a1)\n",
    "            if (a * b * c == 0):\n",
    "                return 0\n",
    "            s =  (a + b + c)/2\n",
    "            prod = s * (s-a) *(s-b)* (s-c);\n",
    "            if (prod <= 0):\n",
    "                return 0;\n",
    "            return math.sqrt(prod)\n",
    "        max_area = 0;\n",
    "        for i in range(0,len(points)):\n",
    "            for j in range(i+1,len(points)):\n",
    "                for k in range(j+1, len(points)):\n",
    "                    area = find_area(points[i],points[j],points[k])\n",
    "                    if (area > max_area):\n",
    "                        max_area = area;\n",
    "        return max_area\n",
    "    \n",
    "        \n",
    "mysol = Solution()\n",
    "print (mysol.largestTriangleArea([[0,0],[0,1],[1,0],[0,2],[2,0]]))\n",
    "print (mysol.largestTriangleArea([[-35,19],[40,19],[27,-20],[35,-3],[44,20],[22,-21],[35,33],[-19,42],[11,47],[11,37]]))"
   ]
  }
 ],
 "metadata": {
  "kernelspec": {
   "display_name": "Python 3",
   "language": "python",
   "name": "python3"
  },
  "language_info": {
   "codemirror_mode": {
    "name": "ipython",
    "version": 3
   },
   "file_extension": ".py",
   "mimetype": "text/x-python",
   "name": "python",
   "nbconvert_exporter": "python",
   "pygments_lexer": "ipython3",
   "version": "3.6.4"
  }
 },
 "nbformat": 4,
 "nbformat_minor": 2
}
