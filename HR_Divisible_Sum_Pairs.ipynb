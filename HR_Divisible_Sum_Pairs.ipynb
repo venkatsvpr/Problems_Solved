{
 "cells": [
  {
   "cell_type": "code",
   "execution_count": null,
   "metadata": {
    "collapsed": true
   },
   "outputs": [],
   "source": [
    "\"\"\"\n",
    "Divisible Sum Pairs\n",
    "https://www.hackerrank.com/challenges/divisible-sum-pairs/problem\n",
    "\n",
    "You are given an array of integers, , and a positive integer, . Find and print the number of pairs where and + is divisible by .\n",
    "\n",
    "Input Format\n",
    "\n",
    "The first line contains space-separated integers, and , respectively.\n",
    "The second line contains space-separated integers describing the respective values of .\n",
    "\n",
    "Constraints\n",
    "\n",
    "Output Format\n",
    "\n",
    "Print the number of pairs where and + is evenly divisible by .\n",
    "\n",
    "Sample Input\n",
    "\n",
    "6 3\n",
    "1 3 2 6 1 2\n",
    "\n",
    "Sample Output\n",
    "\n",
    " 5\n",
    "\n",
    "\"\"\"\n",
    "\n",
    "#!/bin/python3\n",
    "\n",
    "import sys\n",
    "\n",
    "def divisibleSumPairs(n, k, ar):\n",
    "    count = 0;\n",
    "    for i in range(0,n):\n",
    "        for j in range(i+1,n):\n",
    "            #print (ar[i],ar[j],ar[i]+ar[j],k)\n",
    "            if ((ar[i]+ar[j])%k ==0):\n",
    "                #print (\"ture\")\n",
    "                count += 1\n",
    "    return count\n",
    "    # Complete this function\n",
    "\n",
    "n, k = input().strip().split(' ')\n",
    "n, k = [int(n), int(k)]\n",
    "ar = list(map(int, input().strip().split(' ')))\n",
    "result = divisibleSumPairs(n, k, ar)\n",
    "print(result)\n",
    "\n"
   ]
  }
 ],
 "metadata": {
  "kernelspec": {
   "display_name": "Python 3",
   "language": "python",
   "name": "python3"
  },
  "language_info": {
   "codemirror_mode": {
    "name": "ipython",
    "version": 3
   },
   "file_extension": ".py",
   "mimetype": "text/x-python",
   "name": "python",
   "nbconvert_exporter": "python",
   "pygments_lexer": "ipython3",
   "version": "3.6.3"
  }
 },
 "nbformat": 4,
 "nbformat_minor": 2
}
