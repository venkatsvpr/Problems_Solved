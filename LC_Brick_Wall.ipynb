{
 "cells": [
  {
   "cell_type": "code",
   "execution_count": 3,
   "metadata": {},
   "outputs": [
    {
     "name": "stdout",
     "output_type": "stream",
     "text": [
      "3\n",
      "2\n"
     ]
    }
   ],
   "source": [
    "\"\"\"\n",
    "554: Brick Wall\n",
    "There is a brick wall in front of you. The wall is rectangular and has several rows of bricks. The bricks have the same height but different width. You want to draw a vertical line from the top to the bottom and cross the least bricks.\n",
    "\n",
    "The brick wall is represented by a list of rows. Each row is a list of integers representing the width of each brick in this row from left to right.\n",
    "\n",
    "If your line go through the edge of a brick, then the brick is not considered as crossed. You need to find out how to draw the line to cross the least bricks and return the number of crossed bricks.\n",
    "\n",
    "You cannot draw a line just along one of the two vertical edges of the wall, in which case the line will obviously cross no bricks.\n",
    "\n",
    "Example:\n",
    "\n",
    "Input: \n",
    "[[1,2,2,1],\n",
    " [3,1,2],\n",
    " [1,3,2],\n",
    " [2,4],\n",
    " [3,1,2],\n",
    " [1,3,1,1]]\n",
    "Output: 2\n",
    "Explanation: \n",
    "\n",
    "Note:\n",
    "\n",
    "    The width sum of bricks in different rows are the same and won't exceed INT_MAX.\n",
    "    The number of bricks in each row is in range [1,10,000]. The height of wall is in range [1,10,000]. Total number of bricks of the wall won't exceed 20,000.\n",
    "\n",
    "\n",
    "approach:\n",
    "For every row mark the end of every brick in a hash and keep incrementing it.\n",
    "At the end whtaver ending has max value is the place we have to draw the  vertifical line.\n",
    "Count the number of rows . this will give us the height.\n",
    "The difference between the height and hte max-value frequncy will give us the result.\n",
    "\n",
    "\"\"\"\n",
    "\n",
    "import collections\n",
    "import operator\n",
    "class Solution(object):\n",
    "    def leastBricks(self, wall):\n",
    "        \"\"\"\n",
    "        :type wall: List[List[int]]\n",
    "        :rtype: int\n",
    "        \"\"\"\n",
    "        if (wall is None):\n",
    "            return 0\n",
    "        height = len(wall)\n",
    "        d = collections.Counter()\n",
    "        for row in wall:\n",
    "            prev = 0;\n",
    "            for index,brick in enumerate(row):\n",
    "                if (index <  len(row)-1):\n",
    "                    prev += brick\n",
    "                    d[prev] += 1\n",
    "        \n",
    "        u = 0\n",
    "        v = 0;\n",
    "        lt = sorted(d.items(),key=operator.itemgetter(1))\n",
    "        if (len(lt) == 0):\n",
    "            return height\n",
    "        u,v = lt[-1]\n",
    "            \n",
    "        return (height-v)\n",
    "mysol = Solution()\n",
    "print (mysol.leastBricks([[1],[1],[1]]))\n",
    "print (mysol.leastBricks([[1,2,2,1],\n",
    " [3,1,2],\n",
    " [1,3,2],\n",
    " [2,4],\n",
    " [3,1,2],\n",
    " [1,3,1,1]]))"
   ]
  }
 ],
 "metadata": {
  "kernelspec": {
   "display_name": "Python 3",
   "language": "python",
   "name": "python3"
  },
  "language_info": {
   "codemirror_mode": {
    "name": "ipython",
    "version": 3
   },
   "file_extension": ".py",
   "mimetype": "text/x-python",
   "name": "python",
   "nbconvert_exporter": "python",
   "pygments_lexer": "ipython3",
   "version": "3.6.4"
  }
 },
 "nbformat": 4,
 "nbformat_minor": 2
}
